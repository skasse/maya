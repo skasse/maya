{
 "cells": [
  {
   "cell_type": "code",
   "execution_count": 5,
   "metadata": {},
   "outputs": [],
   "source": [
    "import xgen_delta_2Darray_render_batch\n"
   ]
  },
  {
   "cell_type": "code",
   "execution_count": 20,
   "metadata": {},
   "outputs": [
    {
     "name": "stdout",
     "output_type": "stream",
     "text": [
      "(['G:/Shared drives/TriplegangersGroom_ext/Groom_INTERNAL/AliceRivera/maya/base_delta/scenes/deltaGen/AliceRivera__pony_coll__dh_coil__c_0.5_r_0.2.xgd', 'G:/Shared drives/TriplegangersGroom_ext/Groom_INTERNAL/AliceRivera/maya/base_delta/scenes/deltaGen/AliceRivera__pony_coll__dh_coil__c_0.5_r_0.5.xgd', 'G:/Shared drives/TriplegangersGroom_ext/Groom_INTERNAL/AliceRivera/maya/base_delta/scenes/deltaGen/AliceRivera__pony_coll__dh_coil__c_0.5_r_1.xgd', 'G:/Shared drives/TriplegangersGroom_ext/Groom_INTERNAL/AliceRivera/maya/base_delta/scenes/deltaGen/AliceRivera__pony_coll__dh_coil__c_0.5_r_2.xgd', 'G:/Shared drives/TriplegangersGroom_ext/Groom_INTERNAL/AliceRivera/maya/base_delta/scenes/deltaGen/AliceRivera__pony_coll__dh_coil__c_0.5_r_3.xgd'], ['AliceRivera__pony_coll__dh_coil__c_0.5_r_0.2', 'AliceRivera__pony_coll__dh_coil__c_0.5_r_0.5', 'AliceRivera__pony_coll__dh_coil__c_0.5_r_1', 'AliceRivera__pony_coll__dh_coil__c_0.5_r_2', 'AliceRivera__pony_coll__dh_coil__c_0.5_r_3'])\n",
      "(['G:/Shared drives/TriplegangersGroom_ext/Groom_INTERNAL/AliceRivera/maya/base_delta/scenes/deltaGen/AliceRivera__pony_coll__dh_coil__c_13_r_0.2.xgd', 'G:/Shared drives/TriplegangersGroom_ext/Groom_INTERNAL/AliceRivera/maya/base_delta/scenes/deltaGen/AliceRivera__pony_coll__dh_coil__c_13_r_0.5.xgd', 'G:/Shared drives/TriplegangersGroom_ext/Groom_INTERNAL/AliceRivera/maya/base_delta/scenes/deltaGen/AliceRivera__pony_coll__dh_coil__c_13_r_1.xgd', 'G:/Shared drives/TriplegangersGroom_ext/Groom_INTERNAL/AliceRivera/maya/base_delta/scenes/deltaGen/AliceRivera__pony_coll__dh_coil__c_13_r_2.xgd', 'G:/Shared drives/TriplegangersGroom_ext/Groom_INTERNAL/AliceRivera/maya/base_delta/scenes/deltaGen/AliceRivera__pony_coll__dh_coil__c_13_r_3.xgd'], ['AliceRivera__pony_coll__dh_coil__c_13_r_0.2', 'AliceRivera__pony_coll__dh_coil__c_13_r_0.5', 'AliceRivera__pony_coll__dh_coil__c_13_r_1', 'AliceRivera__pony_coll__dh_coil__c_13_r_2', 'AliceRivera__pony_coll__dh_coil__c_13_r_3'])\n",
      "(['G:/Shared drives/TriplegangersGroom_ext/Groom_INTERNAL/AliceRivera/maya/base_delta/scenes/deltaGen/AliceRivera__pony_coll__dh_coil__c_1_r_0.2.xgd', 'G:/Shared drives/TriplegangersGroom_ext/Groom_INTERNAL/AliceRivera/maya/base_delta/scenes/deltaGen/AliceRivera__pony_coll__dh_coil__c_1_r_0.5.xgd', 'G:/Shared drives/TriplegangersGroom_ext/Groom_INTERNAL/AliceRivera/maya/base_delta/scenes/deltaGen/AliceRivera__pony_coll__dh_coil__c_1_r_1.xgd', 'G:/Shared drives/TriplegangersGroom_ext/Groom_INTERNAL/AliceRivera/maya/base_delta/scenes/deltaGen/AliceRivera__pony_coll__dh_coil__c_1_r_2.xgd', 'G:/Shared drives/TriplegangersGroom_ext/Groom_INTERNAL/AliceRivera/maya/base_delta/scenes/deltaGen/AliceRivera__pony_coll__dh_coil__c_1_r_3.xgd'], ['AliceRivera__pony_coll__dh_coil__c_1_r_0.2', 'AliceRivera__pony_coll__dh_coil__c_1_r_0.5', 'AliceRivera__pony_coll__dh_coil__c_1_r_1', 'AliceRivera__pony_coll__dh_coil__c_1_r_2', 'AliceRivera__pony_coll__dh_coil__c_1_r_3'])\n",
      "(['G:/Shared drives/TriplegangersGroom_ext/Groom_INTERNAL/AliceRivera/maya/base_delta/scenes/deltaGen/AliceRivera__pony_coll__dh_coil__c_3_r_0.2.xgd', 'G:/Shared drives/TriplegangersGroom_ext/Groom_INTERNAL/AliceRivera/maya/base_delta/scenes/deltaGen/AliceRivera__pony_coll__dh_coil__c_3_r_0.5.xgd', 'G:/Shared drives/TriplegangersGroom_ext/Groom_INTERNAL/AliceRivera/maya/base_delta/scenes/deltaGen/AliceRivera__pony_coll__dh_coil__c_3_r_1.xgd', 'G:/Shared drives/TriplegangersGroom_ext/Groom_INTERNAL/AliceRivera/maya/base_delta/scenes/deltaGen/AliceRivera__pony_coll__dh_coil__c_3_r_2.xgd', 'G:/Shared drives/TriplegangersGroom_ext/Groom_INTERNAL/AliceRivera/maya/base_delta/scenes/deltaGen/AliceRivera__pony_coll__dh_coil__c_3_r_3.xgd'], ['AliceRivera__pony_coll__dh_coil__c_3_r_0.2', 'AliceRivera__pony_coll__dh_coil__c_3_r_0.5', 'AliceRivera__pony_coll__dh_coil__c_3_r_1', 'AliceRivera__pony_coll__dh_coil__c_3_r_2', 'AliceRivera__pony_coll__dh_coil__c_3_r_3'])\n",
      "(['G:/Shared drives/TriplegangersGroom_ext/Groom_INTERNAL/AliceRivera/maya/base_delta/scenes/deltaGen/AliceRivera__pony_coll__dh_coil__c_5_r_0.2.xgd', 'G:/Shared drives/TriplegangersGroom_ext/Groom_INTERNAL/AliceRivera/maya/base_delta/scenes/deltaGen/AliceRivera__pony_coll__dh_coil__c_5_r_0.5.xgd', 'G:/Shared drives/TriplegangersGroom_ext/Groom_INTERNAL/AliceRivera/maya/base_delta/scenes/deltaGen/AliceRivera__pony_coll__dh_coil__c_5_r_1.xgd', 'G:/Shared drives/TriplegangersGroom_ext/Groom_INTERNAL/AliceRivera/maya/base_delta/scenes/deltaGen/AliceRivera__pony_coll__dh_coil__c_5_r_2.xgd', 'G:/Shared drives/TriplegangersGroom_ext/Groom_INTERNAL/AliceRivera/maya/base_delta/scenes/deltaGen/AliceRivera__pony_coll__dh_coil__c_5_r_3.xgd'], ['AliceRivera__pony_coll__dh_coil__c_5_r_0.2', 'AliceRivera__pony_coll__dh_coil__c_5_r_0.5', 'AliceRivera__pony_coll__dh_coil__c_5_r_1', 'AliceRivera__pony_coll__dh_coil__c_5_r_2', 'AliceRivera__pony_coll__dh_coil__c_5_r_3'])\n",
      "(['G:/Shared drives/TriplegangersGroom_ext/Groom_INTERNAL/AliceRivera/maya/base_delta/scenes/deltaGen/AliceRivera__pony_coll__dh_coil__c_8_r_0.2.xgd', 'G:/Shared drives/TriplegangersGroom_ext/Groom_INTERNAL/AliceRivera/maya/base_delta/scenes/deltaGen/AliceRivera__pony_coll__dh_coil__c_8_r_0.5.xgd', 'G:/Shared drives/TriplegangersGroom_ext/Groom_INTERNAL/AliceRivera/maya/base_delta/scenes/deltaGen/AliceRivera__pony_coll__dh_coil__c_8_r_1.xgd', 'G:/Shared drives/TriplegangersGroom_ext/Groom_INTERNAL/AliceRivera/maya/base_delta/scenes/deltaGen/AliceRivera__pony_coll__dh_coil__c_8_r_2.xgd', 'G:/Shared drives/TriplegangersGroom_ext/Groom_INTERNAL/AliceRivera/maya/base_delta/scenes/deltaGen/AliceRivera__pony_coll__dh_coil__c_8_r_3.xgd'], ['AliceRivera__pony_coll__dh_coil__c_8_r_0.2', 'AliceRivera__pony_coll__dh_coil__c_8_r_0.5', 'AliceRivera__pony_coll__dh_coil__c_8_r_1', 'AliceRivera__pony_coll__dh_coil__c_8_r_2', 'AliceRivera__pony_coll__dh_coil__c_8_r_3'])\n"
     ]
    }
   ],
   "source": [
    "# deltaGen path\n",
    "collection = '_coll'\n",
    "path = \"G:/Shared drives/TriplegangersGroom_ext/Groom_INTERNAL/AliceRivera/maya/base_delta/scenes/deltaGen\"\n",
    "\n",
    "deltas = [x.replace(os.sep, '/') for x in glob(path+\"/*.xgd\")] # get all xgd in path\n",
    "modifiers = set([x.split('__')[-2] for x in deltas]) # modifiers available\n",
    "# collections = set([x.split('__')[-3] for x in deltas]) # colletions available\n",
    "\n",
    "class delta:\n",
    "    def __init__(self, modifier:str):\n",
    "        self.paths = [x for x in deltas if modifier in x and collection in x] # filtered xgd by mod and col\n",
    "        self.ids = [x.split(\"/\")[-1].replace(\".xgd\", \"\") for x in self.paths] # filename only\n",
    "\n",
    "def _func(input):\n",
    "    \"\"\" returns an organized zip list of deltas from the input modifier call\"\"\"\n",
    "    save = set()\n",
    "    single = False\n",
    "    for id in input.ids:\n",
    "        split = id.split('__')[-1].split('_')\n",
    "        if len(split) % 2 != 0:\n",
    "            print(\"somethings wrong with the filenames\")\n",
    "        if len(split) == 2:\n",
    "            single = True\n",
    "            save.add('_'.join(split[:2]))\n",
    "        else:\n",
    "            save.add('_'.join(split[:2])+'_')\n",
    "\n",
    "    \"\"\"filter paths based on saved set\"\"\"\n",
    "    d={}\n",
    "    for i in save:\n",
    "        for x in input.paths:\n",
    "            if i in x:\n",
    "                if i not in d:\n",
    "                    if single == False:\n",
    "                        d[i] = [x]\n",
    "                    else:\n",
    "                        d[i] = x\n",
    "                else:\n",
    "                    # pass\n",
    "                    d[i].append(x)\n",
    "    iters_list = sorted(d.values())\n",
    "    if single == True:\n",
    "        return [list(iters_list), [x.split('/')[-1].rstrip('.xgd') for x in iters_list]]\n",
    "    else:\n",
    "        return list(zip(iters_list, [[x.split('/')[-1].rstrip('.xgd') for x in iter] for iter in iters_list]))\n",
    "\n",
    "from pprint import PrettyPrinter\n",
    "\n",
    "x = { mod:_func(delta(mod)) for mod in modifiers}\n",
    "pp = PrettyPrinter(indent=4)\n",
    "# for y in x:\n",
    "#     pp.pprint(x[y])\n",
    "for d in x['dh_coil']:\n",
    "    print(d)"
   ]
  },
  {
   "cell_type": "code",
   "execution_count": 25,
   "metadata": {},
   "outputs": [
    {
     "name": "stdout",
     "output_type": "stream",
     "text": [
      "AliceRivera__pony_coll__dh_coil__c_5_r_0.2_AliceRivera__pony_coll__dh_coil__c_5_r_3_AliceRivera__pony_coll__dh_coil__c_8_r_0.2_AliceRivera__pony_coll__dh_coil__c_8_r_3\n"
     ]
    }
   ],
   "source": [
    "def img_output_dir(project_path, dx, dy) -> str:\n",
    "    \"\"\"returns string representation of 2d array min/max\"\"\"\n",
    "    output_suffix = \"_\".join([dx[0],dx[-1],dy[0],dy[-1]])\n",
    "    img_output_path = f'{project_path}/images/{output_suffix}/'\n",
    "    if not os.path.exists(img_output_path):\n",
    "        os.mkdir(img_output_path)\n",
    "        print(\"created dir:\", img_output_path)\n",
    "    return img_output_path\n",
    "\n",
    "project_path = \"G:/Shared drives/TriplegangersGroom_ext/Groom_INTERNAL/AliceRivera/maya/base_delta/\"\n",
    "dx = (['G:/Shared drives/TriplegangersGroom_ext/Groom_INTERNAL/AliceRivera/maya/base_delta/scenes/deltaGen/AliceRivera__pony_coll__dh_coil__c_5_r_0.2.xgd', 'G:/Shared drives/TriplegangersGroom_ext/Groom_INTERNAL/AliceRivera/maya/base_delta/scenes/deltaGen/AliceRivera__pony_coll__dh_coil__c_5_r_0.5.xgd', 'G:/Shared drives/TriplegangersGroom_ext/Groom_INTERNAL/AliceRivera/maya/base_delta/scenes/deltaGen/AliceRivera__pony_coll__dh_coil__c_5_r_1.xgd', 'G:/Shared drives/TriplegangersGroom_ext/Groom_INTERNAL/AliceRivera/maya/base_delta/scenes/deltaGen/AliceRivera__pony_coll__dh_coil__c_5_r_2.xgd', 'G:/Shared drives/TriplegangersGroom_ext/Groom_INTERNAL/AliceRivera/maya/base_delta/scenes/deltaGen/AliceRivera__pony_coll__dh_coil__c_5_r_3.xgd'], ['AliceRivera__pony_coll__dh_coil__c_5_r_0.2', 'AliceRivera__pony_coll__dh_coil__c_5_r_0.5', 'AliceRivera__pony_coll__dh_coil__c_5_r_1', 'AliceRivera__pony_coll__dh_coil__c_5_r_2', 'AliceRivera__pony_coll__dh_coil__c_5_r_3'])\n",
    "dy = (['G:/Shared drives/TriplegangersGroom_ext/Groom_INTERNAL/AliceRivera/maya/base_delta/scenes/deltaGen/AliceRivera__pony_coll__dh_coil__c_8_r_0.2.xgd', 'G:/Shared drives/TriplegangersGroom_ext/Groom_INTERNAL/AliceRivera/maya/base_delta/scenes/deltaGen/AliceRivera__pony_coll__dh_coil__c_8_r_0.5.xgd', 'G:/Shared drives/TriplegangersGroom_ext/Groom_INTERNAL/AliceRivera/maya/base_delta/scenes/deltaGen/AliceRivera__pony_coll__dh_coil__c_8_r_1.xgd', 'G:/Shared drives/TriplegangersGroom_ext/Groom_INTERNAL/AliceRivera/maya/base_delta/scenes/deltaGen/AliceRivera__pony_coll__dh_coil__c_8_r_2.xgd', 'G:/Shared drives/TriplegangersGroom_ext/Groom_INTERNAL/AliceRivera/maya/base_delta/scenes/deltaGen/AliceRivera__pony_coll__dh_coil__c_8_r_3.xgd'], ['AliceRivera__pony_coll__dh_coil__c_8_r_0.2', 'AliceRivera__pony_coll__dh_coil__c_8_r_0.5', 'AliceRivera__pony_coll__dh_coil__c_8_r_1', 'AliceRivera__pony_coll__dh_coil__c_8_r_2', 'AliceRivera__pony_coll__dh_coil__c_8_r_3'])\n",
    "\n",
    "\n",
    "dx = dx[1]\n",
    "dy = dy[1]\n",
    "# \"\"\"returns string representation of 2d array min/max\"\"\"\n",
    "output_suffix = \"_\".join([dx[0],dx[-1],dy[0],dy[-1]])\n",
    "print(output_suffix)\n",
    "# img_output_path = f'{project_path}/images/{output_suffix}/'\n",
    "# if not os.path.exists(img_output_path):\n",
    "#     os.mkdir(img_output_path)\n",
    "#     print(\"created dir:\", img_output_path)\n",
    "# print(img_output_path)"
   ]
  }
 ],
 "metadata": {
  "kernelspec": {
   "display_name": "Python 3",
   "language": "python",
   "name": "python3"
  },
  "language_info": {
   "codemirror_mode": {
    "name": "ipython",
    "version": 3
   },
   "file_extension": ".py",
   "mimetype": "text/x-python",
   "name": "python",
   "nbconvert_exporter": "python",
   "pygments_lexer": "ipython3",
   "version": "3.9.13"
  },
  "orig_nbformat": 4,
  "vscode": {
   "interpreter": {
    "hash": "9f476623a6409e859aed2abb175b92e593502b72d6eae5160d784e9496e9bf86"
   }
  }
 },
 "nbformat": 4,
 "nbformat_minor": 2
}

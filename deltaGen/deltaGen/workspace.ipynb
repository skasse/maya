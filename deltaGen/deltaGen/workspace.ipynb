{
 "cells": [
  {
   "cell_type": "code",
   "execution_count": 1,
   "metadata": {},
   "outputs": [],
   "source": [
    "outfile = {'set1': {'items': [], 'set2': {'items': ['pCube1'], 'set4': {'items': ['pSphere1'], 'set3': {'items': ['pCube1', 'pPlane1', 'pTorus1']}}}, 'set4': {'items': ['pSphere1'], 'set3': {'items': ['pCube1', 'pPlane1', 'pTorus1']}}, 'set3': {'items': ['pCube1', 'pPlane1', 'pTorus1']}}}"
   ]
  },
  {
   "cell_type": "code",
   "execution_count": 3,
   "metadata": {},
   "outputs": [
    {
     "name": "stdout",
     "output_type": "stream",
     "text": [
      "{'items': [], 'set2': {'items': ['pCube1'], 'set4': {'items': ['pSphere1'], 'set3': {'items': ['pCube1', 'pPlane1', 'pTorus1']}}}, 'set4': {'items': ['pSphere1'], 'set3': {'items': ['pCube1', 'pPlane1', 'pTorus1']}}, 'set3': {'items': ['pCube1', 'pPlane1', 'pTorus1']}}\n"
     ]
    }
   ],
   "source": [
    "for k in outfile.keys():\n",
    "    print(outfile[k])"
   ]
  },
  {
   "cell_type": "code",
   "execution_count": 4,
   "metadata": {},
   "outputs": [
    {
     "ename": "",
     "evalue": "",
     "output_type": "error",
     "traceback": [
      "\u001b[1;31mCanceled future for execute_request message before replies were done"
     ]
    },
    {
     "ename": "",
     "evalue": "",
     "output_type": "error",
     "traceback": [
      "\u001b[1;31mThe Kernel crashed while executing code in the the current cell or a previous cell. Please review the code in the cell(s) to identify a possible cause of the failure. Click <a href='https://aka.ms/vscodeJupyterKernelCrash'>here</a> for more info. View Jupyter <a href='command:jupyter.viewOutput'>log</a> for further details."
     ]
    }
   ],
   "source": [
    "def traverse(infile):\n",
    "    for k in outfile.keys():\n",
    "        if 'set' in k:\n",
    "            print(k)\n",
    "            traverse(outfile[k])\n",
    "        if k == 'items':\n",
    "            print(outfile[k])\n",
    "        else:\n",
    "            print('notsure')\n",
    "            \n",
    "\n",
    "traverse(outfile)"
   ]
  }
 ],
 "metadata": {
  "kernelspec": {
   "display_name": "Python 3",
   "language": "python",
   "name": "python3"
  },
  "language_info": {
   "codemirror_mode": {
    "name": "ipython",
    "version": 3
   },
   "file_extension": ".py",
   "mimetype": "text/x-python",
   "name": "python",
   "nbconvert_exporter": "python",
   "pygments_lexer": "ipython3",
   "version": "3.9.13"
  },
  "orig_nbformat": 4,
  "vscode": {
   "interpreter": {
    "hash": "9f476623a6409e859aed2abb175b92e593502b72d6eae5160d784e9496e9bf86"
   }
  }
 },
 "nbformat": 4,
 "nbformat_minor": 2
}

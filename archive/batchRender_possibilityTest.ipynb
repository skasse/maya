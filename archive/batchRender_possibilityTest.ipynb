{
 "cells": [
  {
   "cell_type": "code",
   "execution_count": 190,
   "metadata": {},
   "outputs": [
    {
     "name": "stdout",
     "output_type": "stream",
     "text": [
      "['dh_coil_0.5count_0.5radius', 'dh_coil_0.5count_1radius', 'dh_coil_0.5count_2radius', 'dh_coil_0.5count_3radius', 'dh_coil_1count_0.5radius', 'dh_coil_1count_1radius', 'dh_coil_1count_2radius', 'dh_coil_1count_3radius', 'dh_coil_3count_0.5radius', 'dh_coil_3count_1radius', 'dh_coil_3count_2radius', 'dh_coil_3count_3radius', 'dh_coil_5count_0.5radius', 'dh_coil_5count_1radius', 'dh_coil_5count_2radius', 'dh_coil_5count_3radius', 'dh_coil_8count_0.5radius', 'dh_coil_8count_1radius', 'dh_coil_8count_2radius', 'dh_coil_8count_3radius', 'dh_coil_13count_0.5radius', 'dh_coil_13count_1radius', 'dh_coil_13count_2radius', 'dh_coil_13count_3radius']\n"
     ]
    },
    {
     "data": {
      "text/plain": [
       "(['0.5', '1', '3', '5', '8', '13'], [0.5, 1, 2, 3])"
      ]
     },
     "execution_count": 190,
     "metadata": {},
     "output_type": "execute_result"
    }
   ],
   "source": [
    "path = \"G:/Shared drives/TriplegangersGroom_ext/Groom_INTERNAL/jasonMomoa/maya/base_delta/scenes/deltaGen\"\n",
    "\n",
    "class delta(object):\n",
    "    def __init__(self, path:str, filter:str):\n",
    "        deltas = [x.replace(os.sep, '/') for x in glob(path+\"/*.xgd\")]\n",
    "        self.paths = [x for x in deltas if filter in x]\n",
    "        self.ids = [x.split(\"/\")[-1].replace(\".xgd\", \"\") for x in self.paths]\n",
    "\n",
    "coil_deltas = delta(path, \"dh_coil\")\n",
    "noise_deltas = delta(path, \"dh_noise\")\n",
    "cutClamp_deltas = delta(path, \"dh_cutClamp\")\n",
    "cutPercent_deltas = delta(path, \"dh_cutPercent\")\n",
    "gScale_deltas = delta(path, \"dh_exp_gScale\")\n",
    "\n",
    "print(coil_deltas.ids)\n",
    "\n",
    "def sorted_sets(*args, **kwargs):\n",
    "    arg_list = []\n",
    "    for arg in args:\n",
    "        arg_list.append(sorted(list(arg), key=float))\n",
    "    return arg_list\n",
    "\n",
    "count_set = set()\n",
    "radius_set = set()\n",
    "for id in coil_deltas.ids:\n",
    "    count_value = id.split(\"_\")[2].strip('count')\n",
    "    try:\n",
    "        count_value = (count_value)\n",
    "    except ValueError:\n",
    "        count_value = float(count_value)\n",
    "    count_set.add(count_value)\n",
    "    radius_value = id.split(\"_\")[3].strip('radius')\n",
    "    try:\n",
    "        radius_value = int(radius_value)\n",
    "    except ValueError:\n",
    "        radius_value = float(radius_value)\n",
    "    radius_set.add(radius_value)\n",
    "count_list, radius_list = sorted_sets(count_set, radius_set)\n",
    "\n",
    "def sorted_sets(key:str, *args, **kwargs):\n",
    "        arg_list = []\n",
    "        for arg in args:\n",
    "            arg_list.append(sorted(list(arg), key=key))\n",
    "        return arg_list\n",
    "\n",
    "count_list, radius_list = sorted_sets(float, count_set, radius_set)\n",
    "count_list, radius_list\n"
   ]
  },
  {
   "cell_type": "code",
   "execution_count": 129,
   "metadata": {},
   "outputs": [],
   "source": [
    "from glob import glob\n",
    "import os\n",
    "from itertools import product\n",
    "\n",
    "def delta_retrieval(path:str) -> dict:\n",
    "    # deltaGen path\n",
    "    # path = \"G:/Shared drives/TriplegangersGroom_ext/Groom_INTERNAL/AmandaMoore/maya/base_delta/scenes/deltaGen\"\n",
    "\n",
    "    class delta:\n",
    "        def __init__(self, path:str, filter:str):\n",
    "            deltas = [x.replace(os.sep, '/') for x in glob(path+\"/*.xgd\")]\n",
    "            self.paths = [x for x in deltas if filter in x]\n",
    "            self.ids = [x.split(\"/\")[-1].replace(\".xgd\", \"\") for x in self.paths]\n",
    "\n",
    "    coil_deltas = delta(path, \"dh_coil\")\n",
    "    noise_deltas = delta(path, \"dh_noise\")\n",
    "    cutClamp_deltas = delta(path, \"dh_cutClamp\")\n",
    "    cutPercent_deltas = delta(path, \"dh_cutPercent\")\n",
    "    gScale_deltas = delta(path, \"dh_exp_gScale\")\n",
    "\n",
    "    # get noise delta matrix min/max\n",
    "    freq_set = set()\n",
    "    mag_set = set()\n",
    "    for id in noise_deltas.ids:\n",
    "        freq_value = id.split(\"_\")[2].strip('freq')\n",
    "        try:\n",
    "            freq_value = int(freq_value)\n",
    "        except ValueError:\n",
    "            freq_value = float(freq_value)\n",
    "        freq_set.add(freq_value)\n",
    "        mag_value = id.split(\"_\")[3].strip('mag')\n",
    "        try:\n",
    "            mag_value = int(mag_value)\n",
    "        except ValueError:\n",
    "            mag_value = float(mag_value)\n",
    "        mag_set.add(mag_value)\n",
    "    freq_list, mag_list = sorted(list(freq_set), key=float), sorted(list(mag_set), key=float)\n",
    "\n",
    "    count_set = set()\n",
    "    radius_set = set()\n",
    "    for id in coil_deltas.ids:\n",
    "        count_value = id.split(\"_\")[2].strip('count')\n",
    "        try:\n",
    "            count_value = (count_value)\n",
    "        except ValueError:\n",
    "            count_value = float(count_value)\n",
    "        count_set.add(count_value)\n",
    "        radius_value = id.split(\"_\")[3].strip('radius')\n",
    "        try:\n",
    "            radius_value = int(radius_value)\n",
    "        except ValueError:\n",
    "            radius_value = float(radius_value)\n",
    "        radius_set.add(radius_value)\n",
    "    count_list, radius_list = sorted(list(count_set), key=float), sorted(list(radius_set), key=float)\n",
    "\n",
    "    # create a list of delta permutations | freq priority\n",
    "    dh_noise_iters_list = [[] for i in range(0, len(freq_list))]\n",
    "    for i, f in enumerate(freq_list, 0):\n",
    "        for m in mag_list:\n",
    "            dh_noise_iters_list[i].append(f'{path}/dh_noise_{f}freq_{m}mag_0.5corr.xgd')\n",
    "   \n",
    "    # create a list of delta permutations | radius priority\n",
    "    dh_coil_iters_list = [[] for i in range(0, len(radius_list))]\n",
    "    for i, r in enumerate(radius_list, 0):\n",
    "        for c in count_list:\n",
    "            dh_coil_iters_list[i].append(f'{path}/dh_coil_{c}count_{r}radius.xgd')\n",
    "    \n",
    "\n",
    "    # extract sorted ids from iter_list\n",
    "    return {\"dh_noise\" : list(zip(dh_noise_iters_list, [[x.split('/')[-1].rstrip('.xgd') for x in iter] for iter in dh_noise_iters_list])),\n",
    "        \"dh_coil\" : list(zip(dh_coil_iters_list, [[x.split('/')[-1].rstrip('.xgd') for x in iter] for iter in dh_coil_iters_list])),\n",
    "        \"dh_cutClamp\" : [cutClamp_deltas.paths, cutClamp_deltas.ids],\n",
    "        \"dh_cutPercent\": [cutPercent_deltas.paths, cutPercent_deltas.ids],\n",
    "        \"dh_exp_gScale\": [gScale_deltas.paths, gScale_deltas.ids],\n",
    "    }\n"
   ]
  },
  {
   "cell_type": "code",
   "execution_count": 165,
   "metadata": {},
   "outputs": [
    {
     "data": {
      "text/plain": [
       "['G:/Shared drives/TriplegangersGroom_ext/Groom_INTERNAL/jasonMomoa/maya/base_delta/scenes/deltaGen/dh_cutClamp_5cmLength.xgd',\n",
       " 'G:/Shared drives/TriplegangersGroom_ext/Groom_INTERNAL/jasonMomoa/maya/base_delta/scenes/deltaGen/dh_cutClamp_10cmLength.xgd',\n",
       " 'G:/Shared drives/TriplegangersGroom_ext/Groom_INTERNAL/jasonMomoa/maya/base_delta/scenes/deltaGen/dh_cutClamp_15cmLength.xgd',\n",
       " 'G:/Shared drives/TriplegangersGroom_ext/Groom_INTERNAL/jasonMomoa/maya/base_delta/scenes/deltaGen/dh_cutClamp_20cmLength.xgd',\n",
       " 'G:/Shared drives/TriplegangersGroom_ext/Groom_INTERNAL/jasonMomoa/maya/base_delta/scenes/deltaGen/dh_cutClamp_25cmLength.xgd',\n",
       " 'G:/Shared drives/TriplegangersGroom_ext/Groom_INTERNAL/jasonMomoa/maya/base_delta/scenes/deltaGen/dh_cutClamp_30cmLength.xgd']"
      ]
     },
     "execution_count": 165,
     "metadata": {},
     "output_type": "execute_result"
    }
   ],
   "source": [
    "path = \"G:/Shared drives/TriplegangersGroom_ext/Groom_INTERNAL/jasonMomoa/maya/base_delta/scenes/deltaGen\"\n",
    "# list(product(*[delta_retrieval(path, 'noise')[0][0], delta_retrieval(path, 'noise')[0][0]]))\n",
    "\n",
    "\n",
    "deltas = delta_retrieval(path)\n",
    "# for modifier, delta in deltas.items():\n",
    "    # print(modifier)\n",
    "\n",
    "deltas['dh_exp_gScale'][0]\n",
    "deltas['dh_cutClamp'][0]"
   ]
  },
  {
   "cell_type": "code",
   "execution_count": 154,
   "metadata": {},
   "outputs": [
    {
     "name": "stdout",
     "output_type": "stream",
     "text": [
      "6 6\n",
      "['G:/Shared drives/TriplegangersGroom_ext/Groom_INTERNAL/jasonMomoa/maya/base_delta/scenes/deltaGen/dh_noise_0.1freq_1mag_0.5corr.xgd', 'G:/Shared drives/TriplegangersGroom_ext/Groom_INTERNAL/jasonMomoa/maya/base_delta/scenes/deltaGen/dh_noise_0.1freq_2mag_0.5corr.xgd', 'G:/Shared drives/TriplegangersGroom_ext/Groom_INTERNAL/jasonMomoa/maya/base_delta/scenes/deltaGen/dh_noise_0.1freq_3mag_0.5corr.xgd', 'G:/Shared drives/TriplegangersGroom_ext/Groom_INTERNAL/jasonMomoa/maya/base_delta/scenes/deltaGen/dh_noise_0.1freq_5mag_0.5corr.xgd', 'G:/Shared drives/TriplegangersGroom_ext/Groom_INTERNAL/jasonMomoa/maya/base_delta/scenes/deltaGen/dh_noise_0.1freq_8mag_0.5corr.xgd', 'G:/Shared drives/TriplegangersGroom_ext/Groom_INTERNAL/jasonMomoa/maya/base_delta/scenes/deltaGen/dh_noise_0.1freq_13mag_0.5corr.xgd'] ['dh_noise_0.1freq_1mag_0.5corr', 'dh_noise_0.1freq_2mag_0.5corr', 'dh_noise_0.1freq_3mag_0.5corr', 'dh_noise_0.1freq_5mag_0.5corr', 'dh_noise_0.1freq_8mag_0.5corr', 'dh_noise_0.1freq_13mag_0.5corr']\n",
      "6 6\n",
      "['G:/Shared drives/TriplegangersGroom_ext/Groom_INTERNAL/jasonMomoa/maya/base_delta/scenes/deltaGen/dh_noise_0.5freq_1mag_0.5corr.xgd', 'G:/Shared drives/TriplegangersGroom_ext/Groom_INTERNAL/jasonMomoa/maya/base_delta/scenes/deltaGen/dh_noise_0.5freq_2mag_0.5corr.xgd', 'G:/Shared drives/TriplegangersGroom_ext/Groom_INTERNAL/jasonMomoa/maya/base_delta/scenes/deltaGen/dh_noise_0.5freq_3mag_0.5corr.xgd', 'G:/Shared drives/TriplegangersGroom_ext/Groom_INTERNAL/jasonMomoa/maya/base_delta/scenes/deltaGen/dh_noise_0.5freq_5mag_0.5corr.xgd', 'G:/Shared drives/TriplegangersGroom_ext/Groom_INTERNAL/jasonMomoa/maya/base_delta/scenes/deltaGen/dh_noise_0.5freq_8mag_0.5corr.xgd', 'G:/Shared drives/TriplegangersGroom_ext/Groom_INTERNAL/jasonMomoa/maya/base_delta/scenes/deltaGen/dh_noise_0.5freq_13mag_0.5corr.xgd'] ['dh_noise_0.5freq_1mag_0.5corr', 'dh_noise_0.5freq_2mag_0.5corr', 'dh_noise_0.5freq_3mag_0.5corr', 'dh_noise_0.5freq_5mag_0.5corr', 'dh_noise_0.5freq_8mag_0.5corr', 'dh_noise_0.5freq_13mag_0.5corr']\n",
      "6 6\n",
      "['G:/Shared drives/TriplegangersGroom_ext/Groom_INTERNAL/jasonMomoa/maya/base_delta/scenes/deltaGen/dh_noise_1freq_1mag_0.5corr.xgd', 'G:/Shared drives/TriplegangersGroom_ext/Groom_INTERNAL/jasonMomoa/maya/base_delta/scenes/deltaGen/dh_noise_1freq_2mag_0.5corr.xgd', 'G:/Shared drives/TriplegangersGroom_ext/Groom_INTERNAL/jasonMomoa/maya/base_delta/scenes/deltaGen/dh_noise_1freq_3mag_0.5corr.xgd', 'G:/Shared drives/TriplegangersGroom_ext/Groom_INTERNAL/jasonMomoa/maya/base_delta/scenes/deltaGen/dh_noise_1freq_5mag_0.5corr.xgd', 'G:/Shared drives/TriplegangersGroom_ext/Groom_INTERNAL/jasonMomoa/maya/base_delta/scenes/deltaGen/dh_noise_1freq_8mag_0.5corr.xgd', 'G:/Shared drives/TriplegangersGroom_ext/Groom_INTERNAL/jasonMomoa/maya/base_delta/scenes/deltaGen/dh_noise_1freq_13mag_0.5corr.xgd'] ['dh_noise_1freq_1mag_0.5corr', 'dh_noise_1freq_2mag_0.5corr', 'dh_noise_1freq_3mag_0.5corr', 'dh_noise_1freq_5mag_0.5corr', 'dh_noise_1freq_8mag_0.5corr', 'dh_noise_1freq_13mag_0.5corr']\n",
      "6 6\n",
      "['G:/Shared drives/TriplegangersGroom_ext/Groom_INTERNAL/jasonMomoa/maya/base_delta/scenes/deltaGen/dh_noise_3freq_1mag_0.5corr.xgd', 'G:/Shared drives/TriplegangersGroom_ext/Groom_INTERNAL/jasonMomoa/maya/base_delta/scenes/deltaGen/dh_noise_3freq_2mag_0.5corr.xgd', 'G:/Shared drives/TriplegangersGroom_ext/Groom_INTERNAL/jasonMomoa/maya/base_delta/scenes/deltaGen/dh_noise_3freq_3mag_0.5corr.xgd', 'G:/Shared drives/TriplegangersGroom_ext/Groom_INTERNAL/jasonMomoa/maya/base_delta/scenes/deltaGen/dh_noise_3freq_5mag_0.5corr.xgd', 'G:/Shared drives/TriplegangersGroom_ext/Groom_INTERNAL/jasonMomoa/maya/base_delta/scenes/deltaGen/dh_noise_3freq_8mag_0.5corr.xgd', 'G:/Shared drives/TriplegangersGroom_ext/Groom_INTERNAL/jasonMomoa/maya/base_delta/scenes/deltaGen/dh_noise_3freq_13mag_0.5corr.xgd'] ['dh_noise_3freq_1mag_0.5corr', 'dh_noise_3freq_2mag_0.5corr', 'dh_noise_3freq_3mag_0.5corr', 'dh_noise_3freq_5mag_0.5corr', 'dh_noise_3freq_8mag_0.5corr', 'dh_noise_3freq_13mag_0.5corr']\n",
      "6 6\n",
      "['G:/Shared drives/TriplegangersGroom_ext/Groom_INTERNAL/jasonMomoa/maya/base_delta/scenes/deltaGen/dh_noise_5freq_1mag_0.5corr.xgd', 'G:/Shared drives/TriplegangersGroom_ext/Groom_INTERNAL/jasonMomoa/maya/base_delta/scenes/deltaGen/dh_noise_5freq_2mag_0.5corr.xgd', 'G:/Shared drives/TriplegangersGroom_ext/Groom_INTERNAL/jasonMomoa/maya/base_delta/scenes/deltaGen/dh_noise_5freq_3mag_0.5corr.xgd', 'G:/Shared drives/TriplegangersGroom_ext/Groom_INTERNAL/jasonMomoa/maya/base_delta/scenes/deltaGen/dh_noise_5freq_5mag_0.5corr.xgd', 'G:/Shared drives/TriplegangersGroom_ext/Groom_INTERNAL/jasonMomoa/maya/base_delta/scenes/deltaGen/dh_noise_5freq_8mag_0.5corr.xgd', 'G:/Shared drives/TriplegangersGroom_ext/Groom_INTERNAL/jasonMomoa/maya/base_delta/scenes/deltaGen/dh_noise_5freq_13mag_0.5corr.xgd'] ['dh_noise_5freq_1mag_0.5corr', 'dh_noise_5freq_2mag_0.5corr', 'dh_noise_5freq_3mag_0.5corr', 'dh_noise_5freq_5mag_0.5corr', 'dh_noise_5freq_8mag_0.5corr', 'dh_noise_5freq_13mag_0.5corr']\n",
      "6 6\n",
      "['G:/Shared drives/TriplegangersGroom_ext/Groom_INTERNAL/jasonMomoa/maya/base_delta/scenes/deltaGen/dh_noise_8freq_1mag_0.5corr.xgd', 'G:/Shared drives/TriplegangersGroom_ext/Groom_INTERNAL/jasonMomoa/maya/base_delta/scenes/deltaGen/dh_noise_8freq_2mag_0.5corr.xgd', 'G:/Shared drives/TriplegangersGroom_ext/Groom_INTERNAL/jasonMomoa/maya/base_delta/scenes/deltaGen/dh_noise_8freq_3mag_0.5corr.xgd', 'G:/Shared drives/TriplegangersGroom_ext/Groom_INTERNAL/jasonMomoa/maya/base_delta/scenes/deltaGen/dh_noise_8freq_5mag_0.5corr.xgd', 'G:/Shared drives/TriplegangersGroom_ext/Groom_INTERNAL/jasonMomoa/maya/base_delta/scenes/deltaGen/dh_noise_8freq_8mag_0.5corr.xgd', 'G:/Shared drives/TriplegangersGroom_ext/Groom_INTERNAL/jasonMomoa/maya/base_delta/scenes/deltaGen/dh_noise_8freq_13mag_0.5corr.xgd'] ['dh_noise_8freq_1mag_0.5corr', 'dh_noise_8freq_2mag_0.5corr', 'dh_noise_8freq_3mag_0.5corr', 'dh_noise_8freq_5mag_0.5corr', 'dh_noise_8freq_8mag_0.5corr', 'dh_noise_8freq_13mag_0.5corr']\n",
      "6 6\n",
      "['G:/Shared drives/TriplegangersGroom_ext/Groom_INTERNAL/jasonMomoa/maya/base_delta/scenes/deltaGen/dh_noise_13freq_1mag_0.5corr.xgd', 'G:/Shared drives/TriplegangersGroom_ext/Groom_INTERNAL/jasonMomoa/maya/base_delta/scenes/deltaGen/dh_noise_13freq_2mag_0.5corr.xgd', 'G:/Shared drives/TriplegangersGroom_ext/Groom_INTERNAL/jasonMomoa/maya/base_delta/scenes/deltaGen/dh_noise_13freq_3mag_0.5corr.xgd', 'G:/Shared drives/TriplegangersGroom_ext/Groom_INTERNAL/jasonMomoa/maya/base_delta/scenes/deltaGen/dh_noise_13freq_5mag_0.5corr.xgd', 'G:/Shared drives/TriplegangersGroom_ext/Groom_INTERNAL/jasonMomoa/maya/base_delta/scenes/deltaGen/dh_noise_13freq_8mag_0.5corr.xgd', 'G:/Shared drives/TriplegangersGroom_ext/Groom_INTERNAL/jasonMomoa/maya/base_delta/scenes/deltaGen/dh_noise_13freq_13mag_0.5corr.xgd'] ['dh_noise_13freq_1mag_0.5corr', 'dh_noise_13freq_2mag_0.5corr', 'dh_noise_13freq_3mag_0.5corr', 'dh_noise_13freq_5mag_0.5corr', 'dh_noise_13freq_8mag_0.5corr', 'dh_noise_13freq_13mag_0.5corr']\n"
     ]
    }
   ],
   "source": [
    "for delta in deltas[\"dh_noise\"]:\n",
    "    print(len(delta[0]), len(delta[1]))\n",
    "    print(delta[0], delta[1])\n"
   ]
  },
  {
   "cell_type": "code",
   "execution_count": null,
   "metadata": {},
   "outputs": [],
   "source": [
    "G:/Shared drives/TriplegangersGroom_ext/Groom_INTERNAL/jasonMomoa/maya/base_delta/scenes/deltaGen/dh_coil_0.5count_0.5radius.xgd,G:/Shared drives/TriplegangersGroom_ext/Groom_INTERNAL/jasonMomoa/maya/base_delta/scenes/deltaGen/dh_coil_1count_0.5radius.xgd,G:/Shared drives/TriplegangersGroom_ext/Groom_INTERNAL/jasonMomoa/maya/base_delta/scenes/deltaGen/dh_coil_3count_0.5radius.xgd,G:/Shared drives/TriplegangersGroom_ext/Groom_INTERNAL/jasonMomoa/maya/base_delta/scenes/deltaGen/dh_coil_5count_0.5radius.xgd,G:/Shared drives/TriplegangersGroom_ext/Groom_INTERNAL/jasonMomoa/maya/base_delta/scenes/deltaGen/dh_coil_8count_0.5radius.xgd,G:/Shared drives/TriplegangersGroom_ext/Groom_INTERNAL/jasonMomoa/maya/base_delta/scenes/deltaGen/dh_coil_13count_0.5radius.xgd,dh_coil_0.5count_0.5radius,dh_coil_1count_0.5radius,dh_coil_3count_0.5radius,dh_coil_5count_0.5radius,dh_coil_8count_0.5radius,dh_coil_13count_0.5radius,G:/Shared drives/TriplegangersGroom_ext/Groom_INTERNAL/jasonMomoa/maya/base_delta/scenes/deltaGen/dh_coil_0.5count_1radius.xgd,G:/Shared drives/TriplegangersGroom_ext/Groom_INTERNAL/jasonMomoa/maya/base_delta/scenes/deltaGen/dh_coil_1count_1radius.xgd,G:/Shared drives/TriplegangersGroom_ext/Groom_INTERNAL/jasonMomoa/maya/base_delta/scenes/deltaGen/dh_coil_3count_1radius.xgd,G:/Shared drives/TriplegangersGroom_ext/Groom_INTERNAL/jasonMomoa/maya/base_delta/scenes/deltaGen/dh_coil_5count_1radius.xgd,G:/Shared drives/TriplegangersGroom_ext/Groom_INTERNAL/jasonMomoa/maya/base_delta/scenes/deltaGen/dh_coil_8count_1radius.xgd,G:/Shared drives/TriplegangersGroom_ext/Groom_INTERNAL/jasonMomoa/maya/base_delta/scenes/deltaGen/dh_coil_13count_1radius.xgd,dh_coil_0.5count_1radius,dh_coil_1count_1radius,dh_coil_3count_1radius,dh_coil_5count_1radius,dh_coil_8count_1radius,dh_coil_13count_1radius,G:/Shared drives/TriplegangersGroom_ext/Groom_INTERNAL/jasonMomoa/maya/base_delta/scenes/deltaGen/dh_coil_0.5count_3radius.xgd,G:/Shared drives/TriplegangersGroom_ext/Groom_INTERNAL/jasonMomoa/maya/base_delta/scenes/deltaGen/dh_coil_1count_3radius.xgd,G:/Shared drives/TriplegangersGroom_ext/Groom_INTERNAL/jasonMomoa/maya/base_delta/scenes/deltaGen/dh_coil_3count_3radius.xgd,G:/Shared drives/TriplegangersGroom_ext/Groom_INTERNAL/jasonMomoa/maya/base_delta/scenes/deltaGen/dh_coil_5count_3radius.xgd,G:/Shared drives/TriplegangersGroom_ext/Groom_INTERNAL/jasonMomoa/maya/base_delta/scenes/deltaGen/dh_coil_8count_3radius.xgd,G:/Shared drives/TriplegangersGroom_ext/Groom_INTERNAL/jasonMomoa/maya/base_delta/scenes/deltaGen/dh_coil_13count_3radius.xgd,dh_coil_0.5count_3radius,dh_coil_1count_3radius,dh_coil_3count_3radius,dh_coil_5count_3radius,dh_coil_8count_3radius,dh_coil_13count_3radius,G:/Shared drives/TriplegangersGroom_ext/Groom_INTERNAL/jasonMomoa/maya/base_delta/scenes/deltaGen/dh_coil_0.5count_5radius.xgd,G:/Shared drives/TriplegangersGroom_ext/Groom_INTERNAL/jasonMomoa/maya/base_delta/scenes/deltaGen/dh_coil_1count_5radius.xgd,G:/Shared drives/TriplegangersGroom_ext/Groom_INTERNAL/jasonMomoa/maya/base_delta/scenes/deltaGen/dh_coil_3count_5radius.xgd,G:/Shared drives/TriplegangersGroom_ext/Groom_INTERNAL/jasonMomoa/maya/base_delta/scenes/deltaGen/dh_coil_5count_5radius.xgd,G:/Shared drives/TriplegangersGroom_ext/Groom_INTERNAL/jasonMomoa/maya/base_delta/scenes/deltaGen/dh_coil_8count_5radius.xgd,G:/Shared drives/TriplegangersGroom_ext/Groom_INTERNAL/jasonMomoa/maya/base_delta/scenes/deltaGen/dh_coil_13count_5radius.xgd,dh_coil_0.5count_5radius,dh_coil_1count_5radius,dh_coil_3count_5radius,dh_coil_5count_5radius,dh_coil_8count_5radius,dh_coil_13count_5radius,G:/Shared drives/TriplegangersGroom_ext/Groom_INTERNAL/jasonMomoa/maya/base_delta/scenes/deltaGen/dh_coil_0.5count_8radius.xgd,G:/Shared drives/TriplegangersGroom_ext/Groom_INTERNAL/jasonMomoa/maya/base_delta/scenes/deltaGen/dh_coil_1count_8radius.xgd,G:/Shared drives/TriplegangersGroom_ext/Groom_INTERNAL/jasonMomoa/maya/base_delta/scenes/deltaGen/dh_coil_3count_8radius.xgd,G:/Shared drives/TriplegangersGroom_ext/Groom_INTERNAL/jasonMomoa/maya/base_delta/scenes/deltaGen/dh_coil_5count_8radius.xgd,G:/Shared drives/TriplegangersGroom_ext/Groom_INTERNAL/jasonMomoa/maya/base_delta/scenes/deltaGen/dh_coil_8count_8radius.xgd,G:/Shared drives/TriplegangersGroom_ext/Groom_INTERNAL/jasonMomoa/maya/base_delta/scenes/deltaGen/dh_coil_13count_8radius.xgd,dh_coil_0.5count_8radius,dh_coil_1count_8radius,dh_coil_3count_8radius,dh_coil_5count_8radius,dh_coil_8count_8radius,dh_coil_13count_8radius,G:/Shared drives/TriplegangersGroom_ext/Groom_INTERNAL/jasonMomoa/maya/base_delta/scenes/deltaGen/dh_coil_0.5count_13radius.xgd,G:/Shared drives/TriplegangersGroom_ext/Groom_INTERNAL/jasonMomoa/maya/base_delta/scenes/deltaGen/dh_coil_1count_13radius.xgd,G:/Shared drives/TriplegangersGroom_ext/Groom_INTERNAL/jasonMomoa/maya/base_delta/scenes/deltaGen/dh_coil_3count_13radius.xgd,G:/Shared drives/TriplegangersGroom_ext/Groom_INTERNAL/jasonMomoa/maya/base_delta/scenes/deltaGen/dh_coil_5count_13radius.xgd,G:/Shared drives/TriplegangersGroom_ext/Groom_INTERNAL/jasonMomoa/maya/base_delta/scenes/deltaGen/dh_coil_8count_13radius.xgd,G:/Shared drives/TriplegangersGroom_ext/Groom_INTERNAL/jasonMomoa/maya/base_delta/scenes/deltaGen/dh_coil_13count_13radius.xgd,dh_coil_0.5count_13radius,dh_coil_1count_13radius,dh_coil_3count_13radius,dh_coil_5count_13radius,dh_coil_8count_13radius,dh_coil_13count_13radius"
   ]
  },
  {
   "cell_type": "code",
   "execution_count": 160,
   "metadata": {},
   "outputs": [
    {
     "name": "stdout",
     "output_type": "stream",
     "text": [
      "5.014838933944702\n"
     ]
    }
   ],
   "source": [
    "import time,os\n",
    "\n",
    "start = time.time()\n",
    "time.sleep(5)\n",
    "end = time.time()\n",
    "\n",
    "print(end-start)"
   ]
  }
 ],
 "metadata": {
  "kernelspec": {
   "display_name": "Python 3",
   "language": "python",
   "name": "python3"
  },
  "language_info": {
   "codemirror_mode": {
    "name": "ipython",
    "version": 3
   },
   "file_extension": ".py",
   "mimetype": "text/x-python",
   "name": "python",
   "nbconvert_exporter": "python",
   "pygments_lexer": "ipython3",
   "version": "3.9.13 (tags/v3.9.13:6de2ca5, May 17 2022, 16:36:42) [MSC v.1929 64 bit (AMD64)]"
  },
  "orig_nbformat": 4,
  "vscode": {
   "interpreter": {
    "hash": "9f476623a6409e859aed2abb175b92e593502b72d6eae5160d784e9496e9bf86"
   }
  }
 },
 "nbformat": 4,
 "nbformat_minor": 2
}

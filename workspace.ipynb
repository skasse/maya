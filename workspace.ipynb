{
 "cells": [
  {
   "cell_type": "code",
   "execution_count": 15,
   "metadata": {},
   "outputs": [
    {
     "name": "stdout",
     "output_type": "stream",
     "text": [
      "['CamilaMazurek' 'ChrisHemsworth' 'JasonMomoa' 'KamilaTen' 'LucyMae'\n",
      " 'ManuelTucker' 'MonstaXJooheon' 'PaulSamatar' 'PhilipAn' 'RonaldNelson'\n",
      " 'AmandaMoore' 'AliceRivera' 'WandaEdwards' 'VeronicaYoung' 'LouisPrice'\n",
      " 'SimonYuen']\n",
      "SimonYuen         26\n",
      "CamilaMazurek     18\n",
      "RonaldNelson      16\n",
      "ChrisHemsworth    14\n",
      "KamilaTen         14\n",
      "LucyMae           14\n",
      "ManuelTucker      14\n",
      "MonstaXJooheon    14\n",
      "PaulSamatar       14\n",
      "PhilipAn          14\n",
      "VeronicaYoung     14\n",
      "LouisPrice        14\n",
      "JasonMomoa        13\n",
      "AmandaMoore       12\n",
      "WandaEdwards      11\n",
      "AliceRivera        2\n",
      "Name: 4, dtype: int64\n"
     ]
    }
   ],
   "source": [
    "contactSheets = [x.replace(os.sep,'/') for x in glob(path)]\n",
    "cs_splits = [x.split('/') for x in contactSheets]\n",
    "cs_splitspds = pd.Series([x.split('/') for x in contactSheets])\n",
    "\n",
    "df = pd.DataFrame(cs_splits)\n",
    "# df['name'] = df[4]\n",
    "# df\n",
    "\n",
    "df = pd.DataFrame([x.replace(os.sep,'/').split('/') for x in glob(path)])\n",
    "df\n",
    "# unique in column\n",
    "print(df[4].unique())\n",
    "\n",
    "# unique+count in column\n",
    "print(df[4].value_counts())\n",
    "\n"
   ]
  },
  {
   "cell_type": "code",
   "execution_count": 1,
   "metadata": {},
   "outputs": [
    {
     "name": "stdout",
     "output_type": "stream",
     "text": [
      "['CamilaMazurek' 'ChrisHemsworth' 'JasonMomoa' 'KamilaTen' 'LucyMae'\n",
      " 'ManuelTucker' 'MonstaXJooheon' 'PaulSamatar' 'PhilipAn' 'RonaldNelson'\n",
      " 'AmandaMoore' 'AliceRivera' 'WandaEdwards' 'VeronicaYoung' 'LouisPrice'\n",
      " 'SimonYuen']\n",
      "SimonYuen         26\n",
      "CamilaMazurek     18\n",
      "RonaldNelson      16\n",
      "ChrisHemsworth    14\n",
      "KamilaTen         14\n",
      "LucyMae           14\n",
      "ManuelTucker      14\n",
      "MonstaXJooheon    14\n",
      "PaulSamatar       14\n",
      "PhilipAn          14\n",
      "VeronicaYoung     14\n",
      "LouisPrice        14\n",
      "JasonMomoa        13\n",
      "AmandaMoore       12\n",
      "WandaEdwards      11\n",
      "AliceRivera        2\n",
      "Name: 4, dtype: int64\n"
     ]
    }
   ],
   "source": [
    "from glob import glob\n",
    "import pandas as pd\n",
    "\n",
    "path = \"G:/Shared drives/TriplegangersGroom_ext/Groom_INTERNAL/*/maya/base_delta/images/*/contactSheet.png\"\n",
    "\n",
    "df = pd.DataFrame([x.replace(os.sep,'/').split('/') for x in glob(path)])\n",
    "df\n",
    "# unique in column\n",
    "print(df[4].unique())\n",
    "\n",
    "# unique+count in column\n",
    "print(df[4].value_counts())"
   ]
  }
 ],
 "metadata": {
  "kernelspec": {
   "display_name": "Python 3",
   "language": "python",
   "name": "python3"
  },
  "language_info": {
   "codemirror_mode": {
    "name": "ipython",
    "version": 3
   },
   "file_extension": ".py",
   "mimetype": "text/x-python",
   "name": "python",
   "nbconvert_exporter": "python",
   "pygments_lexer": "ipython3",
   "version": "3.9.13"
  },
  "orig_nbformat": 4,
  "vscode": {
   "interpreter": {
    "hash": "9f476623a6409e859aed2abb175b92e593502b72d6eae5160d784e9496e9bf86"
   }
  }
 },
 "nbformat": 4,
 "nbformat_minor": 2
}

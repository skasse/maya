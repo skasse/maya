{
 "cells": [
  {
   "cell_type": "code",
   "execution_count": 15,
   "metadata": {},
   "outputs": [
    {
     "name": "stdout",
     "output_type": "stream",
     "text": [
      "['CamilaMazurek' 'ChrisHemsworth' 'JasonMomoa' 'KamilaTen' 'LucyMae'\n",
      " 'ManuelTucker' 'MonstaXJooheon' 'PaulSamatar' 'PhilipAn' 'RonaldNelson'\n",
      " 'AmandaMoore' 'AliceRivera' 'WandaEdwards' 'VeronicaYoung' 'LouisPrice'\n",
      " 'SimonYuen']\n",
      "SimonYuen         26\n",
      "CamilaMazurek     18\n",
      "RonaldNelson      16\n",
      "ChrisHemsworth    14\n",
      "KamilaTen         14\n",
      "LucyMae           14\n",
      "ManuelTucker      14\n",
      "MonstaXJooheon    14\n",
      "PaulSamatar       14\n",
      "PhilipAn          14\n",
      "VeronicaYoung     14\n",
      "LouisPrice        14\n",
      "JasonMomoa        13\n",
      "AmandaMoore       12\n",
      "WandaEdwards      11\n",
      "AliceRivera        2\n",
      "Name: 4, dtype: int64\n"
     ]
    }
   ],
   "source": [
    "contactSheets = [x.replace(os.sep,'/') for x in glob(path)]\n",
    "cs_splits = [x.split('/') for x in contactSheets]\n",
    "cs_splitspds = pd.Series([x.split('/') for x in contactSheets])\n",
    "\n",
    "df = pd.DataFrame(cs_splits)\n",
    "# df['name'] = df[4]\n",
    "# df\n",
    "\n",
    "df = pd.DataFrame([x.replace(os.sep,'/').split('/') for x in glob(path)])\n",
    "df\n",
    "# unique in column\n",
    "print(df[4].unique())\n",
    "\n",
    "# unique+count in column\n",
    "print(df[4].value_counts())\n",
    "\n"
   ]
  },
  {
   "cell_type": "code",
   "execution_count": 1,
   "metadata": {},
   "outputs": [
    {
     "name": "stdout",
     "output_type": "stream",
     "text": [
      "['CamilaMazurek' 'ChrisHemsworth' 'JasonMomoa' 'KamilaTen' 'LucyMae'\n",
      " 'ManuelTucker' 'MonstaXJooheon' 'PaulSamatar' 'PhilipAn' 'RonaldNelson'\n",
      " 'AmandaMoore' 'AliceRivera' 'WandaEdwards' 'VeronicaYoung' 'LouisPrice'\n",
      " 'SimonYuen']\n",
      "SimonYuen         26\n",
      "CamilaMazurek     18\n",
      "RonaldNelson      16\n",
      "ChrisHemsworth    14\n",
      "KamilaTen         14\n",
      "LucyMae           14\n",
      "ManuelTucker      14\n",
      "MonstaXJooheon    14\n",
      "PaulSamatar       14\n",
      "PhilipAn          14\n",
      "VeronicaYoung     14\n",
      "LouisPrice        14\n",
      "JasonMomoa        13\n",
      "AmandaMoore       12\n",
      "WandaEdwards      11\n",
      "AliceRivera        2\n",
      "Name: 4, dtype: int64\n"
     ]
    }
   ],
   "source": [
    "from glob import glob\n",
    "import pandas as pd\n",
    "\n",
    "path = \"G:/Shared drives/TriplegangersGroom_ext/Groom_INTERNAL/*/maya/base_delta/images/*/contactSheet.png\"\n",
    "\n",
    "df = pd.DataFrame([x.replace(os.sep,'/').split('/') for x in glob(path)])\n",
    "df\n",
    "# unique in column\n",
    "print(df[4].unique())\n",
    "\n",
    "# unique+count in column\n",
    "print(df[4].value_counts())"
   ]
  },
  {
   "cell_type": "code",
   "execution_count": 88,
   "metadata": {},
   "outputs": [
    {
     "name": "stdout",
     "output_type": "stream",
     "text": [
      "search path: G:/Shared drives/TriplegangersGroom_ext/Groom_INTERNAL/, name filters: AmandaMoore\n",
      "AmandaMoore\n",
      "clean complete\n"
     ]
    }
   ],
   "source": [
    "import os\n",
    "import re\n",
    "import numpy as np\n",
    "from glob import glob\n",
    "import tomli\n",
    "from itertools import product, permutations\n",
    "\n",
    "\n",
    "# pathing\n",
    "sourcePath = \"G:/Shared drives/TriplegangersGroom_ext/Groom_INTERNAL/\"\n",
    "configPath = \"0000_base_delta/template/\"\n",
    "xgd_configFile = \"delta_c000.toml\"\n",
    "xgPath = \"/maya/base/scenes/base__head_coll.xgen\"\n",
    "maPath = \"/maya/base/scenes/base.ma\"\n",
    "deltaPath = \"maya/base_delta/scenes/deltaGen/\"\n",
    "\n",
    "\n",
    "def get_grooms(path:str=sourcePath, name:str=\"**\"):\n",
    "    \"\"\" get grooms from source path.  default name = '**' \"\"\"\n",
    "    print(f'search path: {path}, name filters: {name}')\n",
    "    exclude = [\"turntableQC\", \"0000_base_delta\", \"image_DB\"]\n",
    "    groomList = [x.replace(os.sep, '/').split('/')[-1] for x in glob(path+name)]\n",
    "    groomList = [x for x in groomList if x not in exclude]\n",
    "    return groomList\n",
    "\n",
    "def clean_deltas(groomName:str = '**'):\n",
    "    \"\"\"removes all ../scenes/delta/ folders\"\"\"\n",
    "    import shutil\n",
    "    for groom in get_grooms(sourcePath, groomName):\n",
    "        print(groom)\n",
    "        # shutil.rmtree(deltaOutPath(groom))\n",
    "    print(\"clean complete\")\n",
    "\n",
    "clean_deltas(groomName='AmandaMoore')"
   ]
  },
  {
   "cell_type": "code",
   "execution_count": 46,
   "metadata": {},
   "outputs": [],
   "source": [
    "def prune(desc:list=\"\", discard:list=[\"eye\", \"baby\"]) -> list:\n",
    "    \"\"\" with input list, remove discards \"\"\"\n",
    "    descp = [x for x in desc if not any(word in x.lower() for word in discard)]\n",
    "    discards = [x for x in desc if any(word in x.lower() for word in discard)]\n",
    "    # print(\"retained:\", descp), print(\"discarded:\", discards)\n",
    "    return descp\n",
    "\n",
    "\n",
    "def get_grooms(path:str=sourcePath, name:str=\"**\"):\n",
    "    \"\"\" get grooms from source path.  default name = '**' \"\"\"\n",
    "    print(f'search path: {path}, name filters: {name}')\n",
    "    exclude = [\"turntableQC\", \"0000_base_delta\", \"image_DB\"]\n",
    "    groomList = [x.replace(os.sep, '/').split('/')[-1] for x in glob(path+name)]\n",
    "    groomList = [x for x in groomList if x not in exclude]\n",
    "    return groomList\n",
    "\n",
    "\n",
    "def get_desc(groomName):\n",
    "    '''\n",
    "    returns descriptions from .xgen file\n",
    "    '''\n",
    "    xgenPath = f'{sourcePath}{groomName}{xgPath}'\n",
    "    desc_names=[]\n",
    "    xg_file =  open(xgenPath, 'r')\n",
    "    lines = xg_file.readlines()\n",
    "    xg_file.close()\n",
    "    for i in range(len(lines)):\n",
    "        ck = lines[i]\n",
    "        if ck.startswith(\"Description\"):\n",
    "            desc_names.append(lines[i+1].rpartition(\"\\t\")[2].rstrip(\"\\n\"))\n",
    "    return desc_names"
   ]
  },
  {
   "cell_type": "code",
   "execution_count": 146,
   "metadata": {},
   "outputs": [
    {
     "name": "stdout",
     "output_type": "stream",
     "text": [
      "AliceRivera__head__dh_coil__count_1_frequency_1_magnitude_2\n",
      "AliceRivera__head__dh_coil__count_1_frequency_1_magnitude_23\n",
      "AliceRivera__head__dh_coil__count_1_frequency_12_magnitude_2\n",
      "AliceRivera__head__dh_coil__count_1_frequency_12_magnitude_23\n",
      "AliceRivera__head__dh_coil__count_2_frequency_1_magnitude_2\n",
      "AliceRivera__head__dh_coil__count_2_frequency_1_magnitude_23\n",
      "AliceRivera__head__dh_coil__count_2_frequency_12_magnitude_2\n",
      "AliceRivera__head__dh_coil__count_2_frequency_12_magnitude_23\n"
     ]
    }
   ],
   "source": [
    "def inputTest(groomName:str, collection:str, modifier:str, **kwargs):\n",
    "    # #  get descriptions from groom\n",
    "    # palettes = prune(get_desc(groomName))\n",
    "\n",
    "    x = [x for x in kwargs]\n",
    "    p = product(*[kwargs.get(x) for x in kwargs])\n",
    "\n",
    "    for a in p:\n",
    "        s = list(zip(x, a))\n",
    "        name = []\n",
    "        for w in s:\n",
    "            name.extend([w[0],w[1]])\n",
    "        print(f'{groomName}__{collection}__{modifier}__{\"_\".join([str(x) for x in name])}')\n",
    "        \n",
    "\n",
    "    # for a,b in zip(x,p):\n",
    "    #     print(a, b)\n",
    "    \n",
    "    # for a,b in zip(x,list(product(*p))):\n",
    "    #     print(a, b)\n",
    "    \n",
    "\n",
    "    # for a in product(*p):\n",
    "    #     print(f'{a}')\n",
    "\n",
    "    # for i,c in enumerate(x):\n",
    "        # print kwarg[0]_kwarg[0].get_..._kwarg[-1]_kwarg[1].get\n",
    "        # print(c, kwargs.get(c))\n",
    "\n",
    "\n",
    "\n",
    "    # count = kwargs.get('count')\n",
    "    # if not isinstance(count, list):\n",
    "    #     print(f'ERROR: one or more input is not a list')\n",
    "    # else:\n",
    "    #     return kwargs, type(kwargs)\n",
    "    # for a in kwargs:\n",
    "    #     print(f'{a}: {kwargs.get(a)}')\n",
    "\n",
    "inputTest('AliceRivera', 'head', 'dh_coil', count=[1, 2], frequency=[1, 12], magnitude=[2, 23])"
   ]
  },
  {
   "cell_type": "code",
   "execution_count": 33,
   "metadata": {},
   "outputs": [
    {
     "data": {
      "text/plain": [
       "['G:/Shared drives/TriplegangersGroom_ext/Groom_INTERNAL/AliceRivera/maya/base/scenes\\\\base__head_coll.xgen',\n",
       " 'G:/Shared drives/TriplegangersGroom_ext/Groom_INTERNAL/AliceRivera/maya/base/scenes\\\\base__pony_coll.xgen']"
      ]
     },
     "execution_count": 33,
     "metadata": {},
     "output_type": "execute_result"
    }
   ],
   "source": [
    "import os\n",
    "import re\n",
    "import numpy as np\n",
    "from glob import glob\n",
    "import tomli\n",
    "from itertools import product\n",
    "\n",
    "\n",
    "# pathing\n",
    "sourcePath = \"G:/Shared drives/TriplegangersGroom_ext/Groom_INTERNAL/\"\n",
    "configPath = \"0000_base_delta/template/\"\n",
    "xgd_configFile = \"delta_c000.toml\"\n",
    "xgPath = \"/maya/base/scenes/base__**_coll.xgen\"\n",
    "maPath = \"/maya/base/scenes/base.ma\"\n",
    "deltaPath = \"maya/base_delta/scenes/deltaGen/\"\n",
    "\n",
    "def get_desc(groomName:str, collection:str = ['**']):\n",
    "    '''\n",
    "    returns descriptions from .xgen file\n",
    "    '''\n",
    "    collections = [x for x in glob(f'{sourcePath}{groomName}{\"/maya/base/scenes/base__**_coll.xgen\"}')]\n",
    "    return collections\n",
    "    # desc_names=[]\n",
    "    xg_file =  open(xgenPath, 'r')\n",
    "    # lines = xg_file.readlines()\n",
    "    # xg_file.close()\n",
    "    # for i in range(len(lines)):\n",
    "    #     ck = lines[i]\n",
    "    #     if ck.startswith(\"Description\"):\n",
    "    #         desc_names.append(lines[i+1].rpartition(\"\\t\")[2].rstrip(\"\\n\"))\n",
    "    # return desc_names\n",
    "\n",
    "get_desc(\"AliceRivera\")"
   ]
  }
 ],
 "metadata": {
  "kernelspec": {
   "display_name": "Python 3",
   "language": "python",
   "name": "python3"
  },
  "language_info": {
   "codemirror_mode": {
    "name": "ipython",
    "version": 3
   },
   "file_extension": ".py",
   "mimetype": "text/x-python",
   "name": "python",
   "nbconvert_exporter": "python",
   "pygments_lexer": "ipython3",
   "version": "3.9.13"
  },
  "orig_nbformat": 4,
  "vscode": {
   "interpreter": {
    "hash": "9f476623a6409e859aed2abb175b92e593502b72d6eae5160d784e9496e9bf86"
   }
  }
 },
 "nbformat": 4,
 "nbformat_minor": 2
}

{
 "cells": [
  {
   "cell_type": "code",
   "execution_count": 15,
   "metadata": {},
   "outputs": [
    {
     "name": "stdout",
     "output_type": "stream",
     "text": [
      "['CamilaMazurek' 'ChrisHemsworth' 'JasonMomoa' 'KamilaTen' 'LucyMae'\n",
      " 'ManuelTucker' 'MonstaXJooheon' 'PaulSamatar' 'PhilipAn' 'RonaldNelson'\n",
      " 'AmandaMoore' 'AliceRivera' 'WandaEdwards' 'VeronicaYoung' 'LouisPrice'\n",
      " 'SimonYuen']\n",
      "SimonYuen         26\n",
      "CamilaMazurek     18\n",
      "RonaldNelson      16\n",
      "ChrisHemsworth    14\n",
      "KamilaTen         14\n",
      "LucyMae           14\n",
      "ManuelTucker      14\n",
      "MonstaXJooheon    14\n",
      "PaulSamatar       14\n",
      "PhilipAn          14\n",
      "VeronicaYoung     14\n",
      "LouisPrice        14\n",
      "JasonMomoa        13\n",
      "AmandaMoore       12\n",
      "WandaEdwards      11\n",
      "AliceRivera        2\n",
      "Name: 4, dtype: int64\n"
     ]
    }
   ],
   "source": [
    "contactSheets = [x.replace(os.sep,'/') for x in glob(path)]\n",
    "cs_splits = [x.split('/') for x in contactSheets]\n",
    "cs_splitspds = pd.Series([x.split('/') for x in contactSheets])\n",
    "\n",
    "df = pd.DataFrame(cs_splits)\n",
    "# df['name'] = df[4]\n",
    "# df\n",
    "\n",
    "df = pd.DataFrame([x.replace(os.sep,'/').split('/') for x in glob(path)])\n",
    "df\n",
    "# unique in column\n",
    "print(df[4].unique())\n",
    "\n",
    "# unique+count in column\n",
    "print(df[4].value_counts())\n",
    "\n"
   ]
  },
  {
   "cell_type": "code",
   "execution_count": 1,
   "metadata": {},
   "outputs": [
    {
     "name": "stdout",
     "output_type": "stream",
     "text": [
      "['CamilaMazurek' 'ChrisHemsworth' 'JasonMomoa' 'KamilaTen' 'LucyMae'\n",
      " 'ManuelTucker' 'MonstaXJooheon' 'PaulSamatar' 'PhilipAn' 'RonaldNelson'\n",
      " 'AmandaMoore' 'AliceRivera' 'WandaEdwards' 'VeronicaYoung' 'LouisPrice'\n",
      " 'SimonYuen']\n",
      "SimonYuen         26\n",
      "CamilaMazurek     18\n",
      "RonaldNelson      16\n",
      "ChrisHemsworth    14\n",
      "KamilaTen         14\n",
      "LucyMae           14\n",
      "ManuelTucker      14\n",
      "MonstaXJooheon    14\n",
      "PaulSamatar       14\n",
      "PhilipAn          14\n",
      "VeronicaYoung     14\n",
      "LouisPrice        14\n",
      "JasonMomoa        13\n",
      "AmandaMoore       12\n",
      "WandaEdwards      11\n",
      "AliceRivera        2\n",
      "Name: 4, dtype: int64\n"
     ]
    }
   ],
   "source": [
    "from glob import glob\n",
    "import pandas as pd\n",
    "\n",
    "path = \"G:/Shared drives/TriplegangersGroom_ext/Groom_INTERNAL/*/maya/base_delta/images/*/contactSheet.png\"\n",
    "\n",
    "df = pd.DataFrame([x.replace(os.sep,'/').split('/') for x in glob(path)])\n",
    "df\n",
    "# unique in column\n",
    "print(df[4].unique())\n",
    "\n",
    "# unique+count in column\n",
    "print(df[4].value_counts())"
   ]
  },
  {
   "cell_type": "code",
   "execution_count": 88,
   "metadata": {},
   "outputs": [
    {
     "name": "stdout",
     "output_type": "stream",
     "text": [
      "search path: G:/Shared drives/TriplegangersGroom_ext/Groom_INTERNAL/, name filters: AmandaMoore\n",
      "AmandaMoore\n",
      "clean complete\n"
     ]
    }
   ],
   "source": [
    "import os\n",
    "import re\n",
    "import numpy as np\n",
    "from glob import glob\n",
    "import tomli\n",
    "from itertools import product, permutations\n",
    "\n",
    "\n",
    "# pathing\n",
    "sourcePath = \"G:/Shared drives/TriplegangersGroom_ext/Groom_INTERNAL/\"\n",
    "configPath = \"0000_base_delta/template/\"\n",
    "xgd_configFile = \"delta_c000.toml\"\n",
    "xgPath = \"/maya/base/scenes/base__head_coll.xgen\"\n",
    "maPath = \"/maya/base/scenes/base.ma\"\n",
    "deltaPath = \"maya/base_delta/scenes/deltaGen/\"\n",
    "\n",
    "\n",
    "def get_grooms(path:str=sourcePath, name:str=\"**\"):\n",
    "    \"\"\" get grooms from source path.  default name = '**' \"\"\"\n",
    "    print(f'search path: {path}, name filters: {name}')\n",
    "    exclude = [\"turntableQC\", \"0000_base_delta\", \"image_DB\"]\n",
    "    groomList = [x.replace(os.sep, '/').split('/')[-1] for x in glob(path+name)]\n",
    "    groomList = [x for x in groomList if x not in exclude]\n",
    "    return groomList\n",
    "\n",
    "def clean_deltas(groomName:str = '**'):\n",
    "    \"\"\"removes all ../scenes/delta/ folders\"\"\"\n",
    "    import shutil\n",
    "    for groom in get_grooms(sourcePath, groomName):\n",
    "        print(groom)\n",
    "        # shutil.rmtree(deltaOutPath(groom))\n",
    "    print(\"clean complete\")\n",
    "\n",
    "clean_deltas(groomName='AmandaMoore')"
   ]
  },
  {
   "cell_type": "code",
   "execution_count": 179,
   "metadata": {},
   "outputs": [],
   "source": [
    "def prune(desc:list=\"\", discard:list=[\"eye\", \"baby\"]) -> list:\n",
    "    \"\"\" with input list, remove discards \"\"\"\n",
    "    descp = [x for x in desc if not any(word in x.lower() for word in discard)]\n",
    "    discards = [x for x in desc if any(word in x.lower() for word in discard)]\n",
    "    # print(\"retained:\", descp), print(\"discarded:\", discards)\n",
    "    return descp\n",
    "\n",
    "\n",
    "def get_grooms(path:str=sourcePath, name:str=\"**\"):\n",
    "    \"\"\" get grooms from source path.  default name = '**' \"\"\"\n",
    "    print(f'search path: {path}, name filters: {name}')\n",
    "    exclude = [\"turntableQC\", \"0000_base_delta\", \"image_DB\"]\n",
    "    groomList = [x.replace(os.sep, '/').split('/')[-1] for x in glob(path+name)]\n",
    "    groomList = [x for x in groomList if x not in exclude]\n",
    "    return groomList\n",
    "\n",
    "\n",
    "def get_desc(groomName):\n",
    "    '''\n",
    "    returns descriptions from .xgen file\n",
    "    '''\n",
    "    xgenPath = f'{sourcePath}{groomName}{xgPath}'\n",
    "    desc_names=[]\n",
    "    xg_file =  open(xgenPath, 'r')\n",
    "    lines = xg_file.readlines()\n",
    "    xg_file.close()\n",
    "    for i in range(len(lines)):\n",
    "        ck = lines[i]\n",
    "        if ck.startswith(\"Description\"):\n",
    "            desc_names.append(lines[i+1].rpartition(\"\\t\")[2].rstrip(\"\\n\"))\n",
    "    return desc_names\n",
    "\n",
    "def deltaOutPath(groomName):\n",
    "    \"\"\"creates delta output path if its doesnt exist\"\"\"\n",
    "    outputPath = \"{0}{1}/{2}\".format(sourcePath, groomName, deltaPath)\n",
    "    if not os.path.exists(outputPath):\n",
    "        os.makedirs(outputPath)\n",
    "        print(\"created dir:\", outputPath)\n",
    "    return outputPath\n",
    "\n",
    "def __load_config():\n",
    "    \"\"\"open config file with read + binary\"\"\"\n",
    "    with open(sourcePath+configPath+xgd_configFile, 'rb') as f:\n",
    "        config = tomli.load(f)\n",
    "    return config\n",
    "\n",
    "def file_reset(filename:str=\"\"):\n",
    "    with open(filename, 'w') as f:\n",
    "        f.write(\"\")\n",
    "        f.close()"
   ]
  },
  {
   "cell_type": "code",
   "execution_count": 276,
   "metadata": {},
   "outputs": [],
   "source": [
    "def inputTest(groomName:str, collection:str, modifier:str, **kwargs):\n",
    "    \"\"\"\n",
    "    take groomName, collection, modifier, and kwargs as input; XGen xgd file as output\n",
    "\n",
    "    available modifiers:\n",
    "    dh_coil: [count, radius], mask\n",
    "    dh_cutClamp: [cutLength], mask\n",
    "    dh_cutPercent: [percent], mask\n",
    "    dh_noiseGen: [frequency, magnitude, correlation], mask\n",
    "    dh_exp_gScale: [gScale]\n",
    "    dh_wind: [direction, stiffness, constStrength, ]\n",
    "    \"\"\"\n",
    "\n",
    "    #  get descriptions from groom\n",
    "    palettes = prune(get_desc(groomName))\n",
    "\n",
    "    x = [x for x in kwargs] # kwargs list\n",
    "    p = product(*[kwargs.get(x) for x in kwargs]) # cartesian product of kwarg values\n",
    "\n",
    "    for a in p:\n",
    "        xpzip = list(zip(x, a))\n",
    "        name_list = []\n",
    "        for w in xpzip:\n",
    "            name_list.extend([w[0][:1],w[1]])\n",
    "        filename  = deltaOutPath(groomName)+f'{groomName}__{collection}__{modifier}__{\"_\".join([str(x) for x in name_list])}.xgd'\n",
    "        file_reset(filename)\n",
    "        for desc in palettes:\n",
    "            with open(filename, 'a') as f:\n",
    "                workfile = __load_config()[\"modifiers\"][f'{modifier}'][0]\n",
    "                workfile = workfile.replace(\"<xgenDescName>\", desc)\n",
    "                for w in xpzip:\n",
    "                    workfile = workfile.replace(f'<{w[0]}>', str(w[1]))\n",
    "                    # print(f'replacing <{w[0]}> with {str(w[1])}')\n",
    "                f.write(workfile)\n",
    "\n",
    "\n",
    "inputTest('AliceRivera', 'head', 'dh_coil', count=[1, 2], frequency=[1, 12], magnitude=[2, 23])\n",
    "inputTest('AliceRivera', 'head', 'dh_cutClamp', cut_length=[.1, .5, 2, 5, 10])\n",
    "inputTest('AliceRivera', 'head', 'dh_exp_gScale', gScale=[.1, .3, .5, .7, 1.3, 2.1, 3.4])\n",
    "inputTest('AliceRivera', 'head', 'dh_noise', frequency=[1,2,13], magnitude=[3,56,6])"
   ]
  },
  {
   "cell_type": "code",
   "execution_count": 196,
   "metadata": {},
   "outputs": [
    {
     "name": "stdout",
     "output_type": "stream",
     "text": [
      "a_1_b_3_c_7.ext\n",
      "a_1_b_4_c_7.ext\n",
      "a_1_b_5_c_7.ext\n",
      "a_1_b_6_c_7.ext\n",
      "a_2_b_3_c_7.ext\n",
      "a_2_b_4_c_7.ext\n",
      "a_2_b_5_c_7.ext\n",
      "a_2_b_6_c_7.ext\n"
     ]
    }
   ],
   "source": [
    "def testInput(**kwargs):\n",
    "    x = [x for x in kwargs] # kwargs list\n",
    "    p = product(*[kwargs.get(x) for x in kwargs]) # cartesian product of kwarg values\n",
    "\n",
    "    for a in p:\n",
    "        xpzip = list(zip(x, a))\n",
    "        name_list = []\n",
    "        for w in xpzip:\n",
    "            name_list.extend([w[0],w[1]])\n",
    "        filename  = f'{\"_\".join([str(x) for x in name_list])}.ext'\n",
    "        print(filename)\n",
    "testInput(a=[1,2], b=[3,4,5,6], c=[7])"
   ]
  }
 ],
 "metadata": {
  "kernelspec": {
   "display_name": "Python 3",
   "language": "python",
   "name": "python3"
  },
  "language_info": {
   "codemirror_mode": {
    "name": "ipython",
    "version": 3
   },
   "file_extension": ".py",
   "mimetype": "text/x-python",
   "name": "python",
   "nbconvert_exporter": "python",
   "pygments_lexer": "ipython3",
   "version": "3.9.13"
  },
  "orig_nbformat": 4,
  "vscode": {
   "interpreter": {
    "hash": "9f476623a6409e859aed2abb175b92e593502b72d6eae5160d784e9496e9bf86"
   }
  }
 },
 "nbformat": 4,
 "nbformat_minor": 2
}

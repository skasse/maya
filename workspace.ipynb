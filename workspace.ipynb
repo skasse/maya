{
 "cells": [
  {
   "cell_type": "code",
   "execution_count": 330,
   "metadata": {},
   "outputs": [
    {
     "name": "stdout",
     "output_type": "stream",
     "text": [
      "None\n"
     ]
    }
   ],
   "source": [
    "import os\n",
    "from glob import glob\n",
    "\n",
    "def delta_retrieval(path:str) -> dict:\n",
    "    # deltaGen path\n",
    "    # path = \"G:/Shared drives/TriplegangersGroom_ext/Groom_INTERNAL/AliceRivera/maya/base_delta/scenes/deltaGen\"\n",
    "\n",
    "    class delta:\n",
    "        def __init__(self, path:str, collection:str, modifier:str):\n",
    "            deltas = [x.replace(os.sep, '/') for x in glob(path+\"/*.xgd\")]\n",
    "            self.paths = [x for x in deltas if modifier in x and collection in x]\n",
    "            self.ids = [x.split(\"/\")[-1].replace(\".xgd\", \"\") for x in self.paths]\n",
    "\n",
    "    coil_deltas = delta(path, 'head_coll', \"dh_coil\")\n",
    "    noise_deltas = delta(path, 'head_coll', \"dh_noise\")\n",
    "    cutClamp_deltas = delta(path, 'head_coll', \"dh_cutClamp\")\n",
    "    cutPercent_deltas = delta(path, 'head_coll', \"dh_cutPercent\")\n",
    "    gScale_deltas = delta(path, 'head_coll', \"dh_exp_gScale\")\n",
    "\n",
    "path = \"G:/Shared drives/TriplegangersGroom_ext/Groom_INTERNAL/AliceRivera/maya/base_delta/scenes/deltaGen\"\n",
    "deltas = delta_retrieval(path)\n",
    "print(deltas)"
   ]
  },
  {
   "cell_type": "code",
   "execution_count": 369,
   "metadata": {},
   "outputs": [
    {
     "data": {
      "text/plain": [
       "['G:/Shared drives/TriplegangersGroom_ext/Groom_INTERNAL/AliceRivera/maya/base_delta/scenes/deltaGen/AliceRivera__head_coll__dh_noise__f_0.1_m_1.xgd',\n",
       " 'G:/Shared drives/TriplegangersGroom_ext/Groom_INTERNAL/AliceRivera/maya/base_delta/scenes/deltaGen/AliceRivera__head_coll__dh_noise__f_0.1_m_2.xgd',\n",
       " 'G:/Shared drives/TriplegangersGroom_ext/Groom_INTERNAL/AliceRivera/maya/base_delta/scenes/deltaGen/AliceRivera__head_coll__dh_noise__f_0.1_m_3.xgd',\n",
       " 'G:/Shared drives/TriplegangersGroom_ext/Groom_INTERNAL/AliceRivera/maya/base_delta/scenes/deltaGen/AliceRivera__head_coll__dh_noise__f_0.1_m_5.xgd',\n",
       " 'G:/Shared drives/TriplegangersGroom_ext/Groom_INTERNAL/AliceRivera/maya/base_delta/scenes/deltaGen/AliceRivera__head_coll__dh_noise__f_0.1_m_8.xgd',\n",
       " 'G:/Shared drives/TriplegangersGroom_ext/Groom_INTERNAL/AliceRivera/maya/base_delta/scenes/deltaGen/AliceRivera__head_coll__dh_noise__f_0.1_m_13.xgd',\n",
       " 'G:/Shared drives/TriplegangersGroom_ext/Groom_INTERNAL/AliceRivera/maya/base_delta/scenes/deltaGen/AliceRivera__head_coll__dh_noise__f_0.5_m_1.xgd',\n",
       " 'G:/Shared drives/TriplegangersGroom_ext/Groom_INTERNAL/AliceRivera/maya/base_delta/scenes/deltaGen/AliceRivera__head_coll__dh_noise__f_0.5_m_2.xgd',\n",
       " 'G:/Shared drives/TriplegangersGroom_ext/Groom_INTERNAL/AliceRivera/maya/base_delta/scenes/deltaGen/AliceRivera__head_coll__dh_noise__f_0.5_m_3.xgd',\n",
       " 'G:/Shared drives/TriplegangersGroom_ext/Groom_INTERNAL/AliceRivera/maya/base_delta/scenes/deltaGen/AliceRivera__head_coll__dh_noise__f_0.5_m_5.xgd',\n",
       " 'G:/Shared drives/TriplegangersGroom_ext/Groom_INTERNAL/AliceRivera/maya/base_delta/scenes/deltaGen/AliceRivera__head_coll__dh_noise__f_0.5_m_8.xgd',\n",
       " 'G:/Shared drives/TriplegangersGroom_ext/Groom_INTERNAL/AliceRivera/maya/base_delta/scenes/deltaGen/AliceRivera__head_coll__dh_noise__f_0.5_m_13.xgd',\n",
       " 'G:/Shared drives/TriplegangersGroom_ext/Groom_INTERNAL/AliceRivera/maya/base_delta/scenes/deltaGen/AliceRivera__head_coll__dh_noise__f_1_m_1.xgd',\n",
       " 'G:/Shared drives/TriplegangersGroom_ext/Groom_INTERNAL/AliceRivera/maya/base_delta/scenes/deltaGen/AliceRivera__head_coll__dh_noise__f_1_m_2.xgd',\n",
       " 'G:/Shared drives/TriplegangersGroom_ext/Groom_INTERNAL/AliceRivera/maya/base_delta/scenes/deltaGen/AliceRivera__head_coll__dh_noise__f_1_m_3.xgd',\n",
       " 'G:/Shared drives/TriplegangersGroom_ext/Groom_INTERNAL/AliceRivera/maya/base_delta/scenes/deltaGen/AliceRivera__head_coll__dh_noise__f_1_m_5.xgd',\n",
       " 'G:/Shared drives/TriplegangersGroom_ext/Groom_INTERNAL/AliceRivera/maya/base_delta/scenes/deltaGen/AliceRivera__head_coll__dh_noise__f_1_m_8.xgd',\n",
       " 'G:/Shared drives/TriplegangersGroom_ext/Groom_INTERNAL/AliceRivera/maya/base_delta/scenes/deltaGen/AliceRivera__head_coll__dh_noise__f_1_m_13.xgd',\n",
       " 'G:/Shared drives/TriplegangersGroom_ext/Groom_INTERNAL/AliceRivera/maya/base_delta/scenes/deltaGen/AliceRivera__head_coll__dh_noise__f_3_m_1.xgd',\n",
       " 'G:/Shared drives/TriplegangersGroom_ext/Groom_INTERNAL/AliceRivera/maya/base_delta/scenes/deltaGen/AliceRivera__head_coll__dh_noise__f_3_m_2.xgd',\n",
       " 'G:/Shared drives/TriplegangersGroom_ext/Groom_INTERNAL/AliceRivera/maya/base_delta/scenes/deltaGen/AliceRivera__head_coll__dh_noise__f_3_m_3.xgd',\n",
       " 'G:/Shared drives/TriplegangersGroom_ext/Groom_INTERNAL/AliceRivera/maya/base_delta/scenes/deltaGen/AliceRivera__head_coll__dh_noise__f_3_m_5.xgd',\n",
       " 'G:/Shared drives/TriplegangersGroom_ext/Groom_INTERNAL/AliceRivera/maya/base_delta/scenes/deltaGen/AliceRivera__head_coll__dh_noise__f_3_m_8.xgd',\n",
       " 'G:/Shared drives/TriplegangersGroom_ext/Groom_INTERNAL/AliceRivera/maya/base_delta/scenes/deltaGen/AliceRivera__head_coll__dh_noise__f_3_m_13.xgd',\n",
       " 'G:/Shared drives/TriplegangersGroom_ext/Groom_INTERNAL/AliceRivera/maya/base_delta/scenes/deltaGen/AliceRivera__head_coll__dh_noise__f_5_m_1.xgd',\n",
       " 'G:/Shared drives/TriplegangersGroom_ext/Groom_INTERNAL/AliceRivera/maya/base_delta/scenes/deltaGen/AliceRivera__head_coll__dh_noise__f_5_m_2.xgd',\n",
       " 'G:/Shared drives/TriplegangersGroom_ext/Groom_INTERNAL/AliceRivera/maya/base_delta/scenes/deltaGen/AliceRivera__head_coll__dh_noise__f_5_m_3.xgd',\n",
       " 'G:/Shared drives/TriplegangersGroom_ext/Groom_INTERNAL/AliceRivera/maya/base_delta/scenes/deltaGen/AliceRivera__head_coll__dh_noise__f_5_m_5.xgd',\n",
       " 'G:/Shared drives/TriplegangersGroom_ext/Groom_INTERNAL/AliceRivera/maya/base_delta/scenes/deltaGen/AliceRivera__head_coll__dh_noise__f_5_m_8.xgd',\n",
       " 'G:/Shared drives/TriplegangersGroom_ext/Groom_INTERNAL/AliceRivera/maya/base_delta/scenes/deltaGen/AliceRivera__head_coll__dh_noise__f_5_m_13.xgd',\n",
       " 'G:/Shared drives/TriplegangersGroom_ext/Groom_INTERNAL/AliceRivera/maya/base_delta/scenes/deltaGen/AliceRivera__head_coll__dh_noise__f_8_m_1.xgd',\n",
       " 'G:/Shared drives/TriplegangersGroom_ext/Groom_INTERNAL/AliceRivera/maya/base_delta/scenes/deltaGen/AliceRivera__head_coll__dh_noise__f_8_m_2.xgd',\n",
       " 'G:/Shared drives/TriplegangersGroom_ext/Groom_INTERNAL/AliceRivera/maya/base_delta/scenes/deltaGen/AliceRivera__head_coll__dh_noise__f_8_m_3.xgd',\n",
       " 'G:/Shared drives/TriplegangersGroom_ext/Groom_INTERNAL/AliceRivera/maya/base_delta/scenes/deltaGen/AliceRivera__head_coll__dh_noise__f_8_m_5.xgd',\n",
       " 'G:/Shared drives/TriplegangersGroom_ext/Groom_INTERNAL/AliceRivera/maya/base_delta/scenes/deltaGen/AliceRivera__head_coll__dh_noise__f_8_m_8.xgd',\n",
       " 'G:/Shared drives/TriplegangersGroom_ext/Groom_INTERNAL/AliceRivera/maya/base_delta/scenes/deltaGen/AliceRivera__head_coll__dh_noise__f_8_m_13.xgd',\n",
       " 'G:/Shared drives/TriplegangersGroom_ext/Groom_INTERNAL/AliceRivera/maya/base_delta/scenes/deltaGen/AliceRivera__head_coll__dh_noise__f_13_m_1.xgd',\n",
       " 'G:/Shared drives/TriplegangersGroom_ext/Groom_INTERNAL/AliceRivera/maya/base_delta/scenes/deltaGen/AliceRivera__head_coll__dh_noise__f_13_m_2.xgd',\n",
       " 'G:/Shared drives/TriplegangersGroom_ext/Groom_INTERNAL/AliceRivera/maya/base_delta/scenes/deltaGen/AliceRivera__head_coll__dh_noise__f_13_m_3.xgd',\n",
       " 'G:/Shared drives/TriplegangersGroom_ext/Groom_INTERNAL/AliceRivera/maya/base_delta/scenes/deltaGen/AliceRivera__head_coll__dh_noise__f_13_m_5.xgd',\n",
       " 'G:/Shared drives/TriplegangersGroom_ext/Groom_INTERNAL/AliceRivera/maya/base_delta/scenes/deltaGen/AliceRivera__head_coll__dh_noise__f_13_m_8.xgd',\n",
       " 'G:/Shared drives/TriplegangersGroom_ext/Groom_INTERNAL/AliceRivera/maya/base_delta/scenes/deltaGen/AliceRivera__head_coll__dh_noise__f_13_m_13.xgd',\n",
       " 'G:/Shared drives/TriplegangersGroom_ext/Groom_INTERNAL/AliceRivera/maya/base_delta/scenes/deltaGen/AliceRivera__pony_coll__dh_noise__f_0.1_m_1.xgd',\n",
       " 'G:/Shared drives/TriplegangersGroom_ext/Groom_INTERNAL/AliceRivera/maya/base_delta/scenes/deltaGen/AliceRivera__pony_coll__dh_noise__f_0.1_m_2.xgd',\n",
       " 'G:/Shared drives/TriplegangersGroom_ext/Groom_INTERNAL/AliceRivera/maya/base_delta/scenes/deltaGen/AliceRivera__pony_coll__dh_noise__f_0.1_m_3.xgd',\n",
       " 'G:/Shared drives/TriplegangersGroom_ext/Groom_INTERNAL/AliceRivera/maya/base_delta/scenes/deltaGen/AliceRivera__pony_coll__dh_noise__f_0.1_m_5.xgd',\n",
       " 'G:/Shared drives/TriplegangersGroom_ext/Groom_INTERNAL/AliceRivera/maya/base_delta/scenes/deltaGen/AliceRivera__pony_coll__dh_noise__f_0.1_m_8.xgd',\n",
       " 'G:/Shared drives/TriplegangersGroom_ext/Groom_INTERNAL/AliceRivera/maya/base_delta/scenes/deltaGen/AliceRivera__pony_coll__dh_noise__f_0.1_m_13.xgd',\n",
       " 'G:/Shared drives/TriplegangersGroom_ext/Groom_INTERNAL/AliceRivera/maya/base_delta/scenes/deltaGen/AliceRivera__pony_coll__dh_noise__f_0.5_m_1.xgd',\n",
       " 'G:/Shared drives/TriplegangersGroom_ext/Groom_INTERNAL/AliceRivera/maya/base_delta/scenes/deltaGen/AliceRivera__pony_coll__dh_noise__f_0.5_m_2.xgd',\n",
       " 'G:/Shared drives/TriplegangersGroom_ext/Groom_INTERNAL/AliceRivera/maya/base_delta/scenes/deltaGen/AliceRivera__pony_coll__dh_noise__f_0.5_m_3.xgd',\n",
       " 'G:/Shared drives/TriplegangersGroom_ext/Groom_INTERNAL/AliceRivera/maya/base_delta/scenes/deltaGen/AliceRivera__pony_coll__dh_noise__f_0.5_m_5.xgd',\n",
       " 'G:/Shared drives/TriplegangersGroom_ext/Groom_INTERNAL/AliceRivera/maya/base_delta/scenes/deltaGen/AliceRivera__pony_coll__dh_noise__f_0.5_m_8.xgd',\n",
       " 'G:/Shared drives/TriplegangersGroom_ext/Groom_INTERNAL/AliceRivera/maya/base_delta/scenes/deltaGen/AliceRivera__pony_coll__dh_noise__f_0.5_m_13.xgd',\n",
       " 'G:/Shared drives/TriplegangersGroom_ext/Groom_INTERNAL/AliceRivera/maya/base_delta/scenes/deltaGen/AliceRivera__pony_coll__dh_noise__f_1_m_1.xgd',\n",
       " 'G:/Shared drives/TriplegangersGroom_ext/Groom_INTERNAL/AliceRivera/maya/base_delta/scenes/deltaGen/AliceRivera__pony_coll__dh_noise__f_1_m_2.xgd',\n",
       " 'G:/Shared drives/TriplegangersGroom_ext/Groom_INTERNAL/AliceRivera/maya/base_delta/scenes/deltaGen/AliceRivera__pony_coll__dh_noise__f_1_m_3.xgd',\n",
       " 'G:/Shared drives/TriplegangersGroom_ext/Groom_INTERNAL/AliceRivera/maya/base_delta/scenes/deltaGen/AliceRivera__pony_coll__dh_noise__f_1_m_5.xgd',\n",
       " 'G:/Shared drives/TriplegangersGroom_ext/Groom_INTERNAL/AliceRivera/maya/base_delta/scenes/deltaGen/AliceRivera__pony_coll__dh_noise__f_1_m_8.xgd',\n",
       " 'G:/Shared drives/TriplegangersGroom_ext/Groom_INTERNAL/AliceRivera/maya/base_delta/scenes/deltaGen/AliceRivera__pony_coll__dh_noise__f_1_m_13.xgd',\n",
       " 'G:/Shared drives/TriplegangersGroom_ext/Groom_INTERNAL/AliceRivera/maya/base_delta/scenes/deltaGen/AliceRivera__pony_coll__dh_noise__f_3_m_1.xgd',\n",
       " 'G:/Shared drives/TriplegangersGroom_ext/Groom_INTERNAL/AliceRivera/maya/base_delta/scenes/deltaGen/AliceRivera__pony_coll__dh_noise__f_3_m_2.xgd',\n",
       " 'G:/Shared drives/TriplegangersGroom_ext/Groom_INTERNAL/AliceRivera/maya/base_delta/scenes/deltaGen/AliceRivera__pony_coll__dh_noise__f_3_m_3.xgd',\n",
       " 'G:/Shared drives/TriplegangersGroom_ext/Groom_INTERNAL/AliceRivera/maya/base_delta/scenes/deltaGen/AliceRivera__pony_coll__dh_noise__f_3_m_5.xgd',\n",
       " 'G:/Shared drives/TriplegangersGroom_ext/Groom_INTERNAL/AliceRivera/maya/base_delta/scenes/deltaGen/AliceRivera__pony_coll__dh_noise__f_3_m_8.xgd',\n",
       " 'G:/Shared drives/TriplegangersGroom_ext/Groom_INTERNAL/AliceRivera/maya/base_delta/scenes/deltaGen/AliceRivera__pony_coll__dh_noise__f_3_m_13.xgd',\n",
       " 'G:/Shared drives/TriplegangersGroom_ext/Groom_INTERNAL/AliceRivera/maya/base_delta/scenes/deltaGen/AliceRivera__pony_coll__dh_noise__f_5_m_1.xgd',\n",
       " 'G:/Shared drives/TriplegangersGroom_ext/Groom_INTERNAL/AliceRivera/maya/base_delta/scenes/deltaGen/AliceRivera__pony_coll__dh_noise__f_5_m_2.xgd',\n",
       " 'G:/Shared drives/TriplegangersGroom_ext/Groom_INTERNAL/AliceRivera/maya/base_delta/scenes/deltaGen/AliceRivera__pony_coll__dh_noise__f_5_m_3.xgd',\n",
       " 'G:/Shared drives/TriplegangersGroom_ext/Groom_INTERNAL/AliceRivera/maya/base_delta/scenes/deltaGen/AliceRivera__pony_coll__dh_noise__f_5_m_5.xgd',\n",
       " 'G:/Shared drives/TriplegangersGroom_ext/Groom_INTERNAL/AliceRivera/maya/base_delta/scenes/deltaGen/AliceRivera__pony_coll__dh_noise__f_5_m_8.xgd',\n",
       " 'G:/Shared drives/TriplegangersGroom_ext/Groom_INTERNAL/AliceRivera/maya/base_delta/scenes/deltaGen/AliceRivera__pony_coll__dh_noise__f_5_m_13.xgd',\n",
       " 'G:/Shared drives/TriplegangersGroom_ext/Groom_INTERNAL/AliceRivera/maya/base_delta/scenes/deltaGen/AliceRivera__pony_coll__dh_noise__f_8_m_1.xgd',\n",
       " 'G:/Shared drives/TriplegangersGroom_ext/Groom_INTERNAL/AliceRivera/maya/base_delta/scenes/deltaGen/AliceRivera__pony_coll__dh_noise__f_8_m_2.xgd',\n",
       " 'G:/Shared drives/TriplegangersGroom_ext/Groom_INTERNAL/AliceRivera/maya/base_delta/scenes/deltaGen/AliceRivera__pony_coll__dh_noise__f_8_m_3.xgd',\n",
       " 'G:/Shared drives/TriplegangersGroom_ext/Groom_INTERNAL/AliceRivera/maya/base_delta/scenes/deltaGen/AliceRivera__pony_coll__dh_noise__f_8_m_5.xgd',\n",
       " 'G:/Shared drives/TriplegangersGroom_ext/Groom_INTERNAL/AliceRivera/maya/base_delta/scenes/deltaGen/AliceRivera__pony_coll__dh_noise__f_8_m_8.xgd',\n",
       " 'G:/Shared drives/TriplegangersGroom_ext/Groom_INTERNAL/AliceRivera/maya/base_delta/scenes/deltaGen/AliceRivera__pony_coll__dh_noise__f_8_m_13.xgd',\n",
       " 'G:/Shared drives/TriplegangersGroom_ext/Groom_INTERNAL/AliceRivera/maya/base_delta/scenes/deltaGen/AliceRivera__pony_coll__dh_noise__f_13_m_1.xgd',\n",
       " 'G:/Shared drives/TriplegangersGroom_ext/Groom_INTERNAL/AliceRivera/maya/base_delta/scenes/deltaGen/AliceRivera__pony_coll__dh_noise__f_13_m_2.xgd',\n",
       " 'G:/Shared drives/TriplegangersGroom_ext/Groom_INTERNAL/AliceRivera/maya/base_delta/scenes/deltaGen/AliceRivera__pony_coll__dh_noise__f_13_m_3.xgd',\n",
       " 'G:/Shared drives/TriplegangersGroom_ext/Groom_INTERNAL/AliceRivera/maya/base_delta/scenes/deltaGen/AliceRivera__pony_coll__dh_noise__f_13_m_5.xgd',\n",
       " 'G:/Shared drives/TriplegangersGroom_ext/Groom_INTERNAL/AliceRivera/maya/base_delta/scenes/deltaGen/AliceRivera__pony_coll__dh_noise__f_13_m_8.xgd',\n",
       " 'G:/Shared drives/TriplegangersGroom_ext/Groom_INTERNAL/AliceRivera/maya/base_delta/scenes/deltaGen/AliceRivera__pony_coll__dh_noise__f_13_m_13.xgd']"
      ]
     },
     "execution_count": 369,
     "metadata": {},
     "output_type": "execute_result"
    }
   ],
   "source": [
    "path = \"G:/Shared drives/TriplegangersGroom_ext/Groom_INTERNAL/AliceRivera/maya/base_delta/scenes/deltaGen\"\n",
    "# path = \"G:/Shared drives/TriplegangersGroom_ext/Groom_INTERNAL/SimonYuen/maya/base_delta/scenes/deltaGen\"\n",
    "class delta:\n",
    "    def __init__(self, path:str, collection:str, modifier:str):\n",
    "        deltas = [x.replace(os.sep, '/') for x in glob(path+\"/*.xgd\")] # get all xgd in path\n",
    "        self.paths = [x for x in deltas if modifier in x]# and collection in x] # filtered xgd \n",
    "        self.ids = [x.split(\"/\")[-1].replace(\".xgd\", \"\") for x in self.paths] # filename only\n",
    "\n",
    "coil_deltas = delta(path, 'head_coll', \"dh_coil\")\n",
    "noise_deltas = delta(path, 'head_coll', \"dh_noise\")\n",
    "cutClamp_deltas = delta(path, 'pony_coll', \"dh_cutClamp\")\n",
    "cutPercent_deltas = delta(path, 'head_coll', \"dh_cutPercent\")\n",
    "gScale_deltas = delta(path, 'head_coll', \"dh_exp_gScale\")\n",
    "\n",
    "# gScale_deltas.paths\n",
    "noise_deltas.paths\n"
   ]
  },
  {
   "cell_type": "code",
   "execution_count": 365,
   "metadata": {},
   "outputs": [
    {
     "data": {
      "text/plain": [
       "{'dh_coil', 'dh_cutClamp', 'dh_exp_gScale', 'dh_noise'}"
      ]
     },
     "execution_count": 365,
     "metadata": {},
     "output_type": "execute_result"
    }
   ],
   "source": [
    "collection = 'pony_coll'\n",
    "modifier = 'dh_cutClamp'\n",
    "deltas = [x.replace(os.sep, '/') for x in glob(path+\"/*.xgd\")] # get all xgd in path\n",
    "modifiers = set([x.split('__')[-2] for x in deltas])\n",
    "paths = [x for x in deltas if modifier in x and collection in x] # filtered xgd \n",
    "ids = [x.split(\"/\")[-1].replace(\".xgd\", \"\") for x in paths]\n",
    "\n",
    "modifiers"
   ]
  },
  {
   "cell_type": "code",
   "execution_count": 265,
   "metadata": {},
   "outputs": [
    {
     "name": "stdout",
     "output_type": "stream",
     "text": [
      "{'f': [0.1, 0.5, 1, 3, 5, 8, 13], 'm': [1, 2, 3, 5, 8, 13]}\n",
      "AliceRivera__head_coll__dh_noise__f_0.1_m_1\n",
      "AliceRivera__head_coll__dh_noise__f_0.1_m_2\n",
      "AliceRivera__head_coll__dh_noise__f_0.1_m_3\n",
      "AliceRivera__head_coll__dh_noise__f_0.1_m_5\n",
      "AliceRivera__head_coll__dh_noise__f_0.1_m_8\n",
      "AliceRivera__head_coll__dh_noise__f_0.1_m_13\n",
      "AliceRivera__head_coll__dh_noise__f_0.5_m_1\n",
      "AliceRivera__head_coll__dh_noise__f_0.5_m_2\n",
      "AliceRivera__head_coll__dh_noise__f_0.5_m_3\n",
      "AliceRivera__head_coll__dh_noise__f_0.5_m_5\n",
      "AliceRivera__head_coll__dh_noise__f_0.5_m_8\n",
      "AliceRivera__head_coll__dh_noise__f_0.5_m_13\n",
      "AliceRivera__head_coll__dh_noise__f_1_m_1\n",
      "AliceRivera__head_coll__dh_noise__f_1_m_2\n",
      "AliceRivera__head_coll__dh_noise__f_1_m_3\n",
      "AliceRivera__head_coll__dh_noise__f_1_m_5\n",
      "AliceRivera__head_coll__dh_noise__f_1_m_8\n",
      "AliceRivera__head_coll__dh_noise__f_1_m_13\n",
      "AliceRivera__head_coll__dh_noise__f_3_m_1\n",
      "AliceRivera__head_coll__dh_noise__f_3_m_2\n",
      "AliceRivera__head_coll__dh_noise__f_3_m_3\n",
      "AliceRivera__head_coll__dh_noise__f_3_m_5\n",
      "AliceRivera__head_coll__dh_noise__f_3_m_8\n",
      "AliceRivera__head_coll__dh_noise__f_3_m_13\n",
      "AliceRivera__head_coll__dh_noise__f_5_m_1\n",
      "AliceRivera__head_coll__dh_noise__f_5_m_2\n",
      "AliceRivera__head_coll__dh_noise__f_5_m_3\n",
      "AliceRivera__head_coll__dh_noise__f_5_m_5\n",
      "AliceRivera__head_coll__dh_noise__f_5_m_8\n",
      "AliceRivera__head_coll__dh_noise__f_5_m_13\n",
      "AliceRivera__head_coll__dh_noise__f_8_m_1\n",
      "AliceRivera__head_coll__dh_noise__f_8_m_2\n",
      "AliceRivera__head_coll__dh_noise__f_8_m_3\n",
      "AliceRivera__head_coll__dh_noise__f_8_m_5\n",
      "AliceRivera__head_coll__dh_noise__f_8_m_8\n",
      "AliceRivera__head_coll__dh_noise__f_8_m_13\n",
      "AliceRivera__head_coll__dh_noise__f_13_m_1\n",
      "AliceRivera__head_coll__dh_noise__f_13_m_2\n",
      "AliceRivera__head_coll__dh_noise__f_13_m_3\n",
      "AliceRivera__head_coll__dh_noise__f_13_m_5\n",
      "AliceRivera__head_coll__dh_noise__f_13_m_8\n",
      "AliceRivera__head_coll__dh_noise__f_13_m_13\n"
     ]
    }
   ],
   "source": [
    "\n",
    "input = cutClamp_deltas.ids\n",
    "input = noise_deltas.ids\n",
    "from itertools import product\n",
    "\n",
    "# [a.add(len(x.split('__')[-1].split('_'))) for x in input] # check all inputs are same length\n",
    "save = {}\n",
    "for id in input:\n",
    "    split = id.split('__')[-1].split('_')\n",
    "    keys = split[::2]\n",
    "    values = split[1::2]\n",
    "    for count, key in enumerate(keys):\n",
    "        if not key in save:\n",
    "            try:\n",
    "                save[key] = [int(values[count])]\n",
    "            except ValueError:\n",
    "                save[key] = [float(values[count])]\n",
    "        else:\n",
    "            try:\n",
    "                save[key].append(int(values[count]))\n",
    "            except ValueError:\n",
    "                save[key].append(float(values[count]))\n",
    "result = {k:set(save[k]) for k in save}\n",
    "result = {k:sorted(list(v), key=float) for k,v in result.items()}\n",
    "print(result)\n",
    "x = list(result.keys())\n",
    "y = list(result.values())\n",
    "\n",
    "iters_list = [[] for i in range(0, len(y[0]))]\n",
    "for i, r in enumerate(y[0], 0):\n",
    "    for c in y[1]:\n",
    "        iters_list[i].append(f'{path}/dh_coil_{c}count_{r}radius.xgd')\n",
    "\n",
    "\n",
    "\n"
   ]
  },
  {
   "cell_type": "code",
   "execution_count": 421,
   "metadata": {},
   "outputs": [
    {
     "name": "stdout",
     "output_type": "stream",
     "text": [
      "{'c_25', 'c_10', 'c_20', 'c_15', 'c_30', 'c_5'}\n"
     ]
    },
    {
     "data": {
      "text/plain": [
       "[['G:/Shared drives/TriplegangersGroom_ext/Groom_INTERNAL/AliceRivera/maya/base_delta/scenes/deltaGen/AliceRivera__pony_coll__dh_cutClamp__c_10.xgd',\n",
       "  'G:/Shared drives/TriplegangersGroom_ext/Groom_INTERNAL/AliceRivera/maya/base_delta/scenes/deltaGen/AliceRivera__pony_coll__dh_cutClamp__c_15.xgd',\n",
       "  'G:/Shared drives/TriplegangersGroom_ext/Groom_INTERNAL/AliceRivera/maya/base_delta/scenes/deltaGen/AliceRivera__pony_coll__dh_cutClamp__c_20.xgd',\n",
       "  'G:/Shared drives/TriplegangersGroom_ext/Groom_INTERNAL/AliceRivera/maya/base_delta/scenes/deltaGen/AliceRivera__pony_coll__dh_cutClamp__c_25.xgd',\n",
       "  'G:/Shared drives/TriplegangersGroom_ext/Groom_INTERNAL/AliceRivera/maya/base_delta/scenes/deltaGen/AliceRivera__pony_coll__dh_cutClamp__c_30.xgd',\n",
       "  'G:/Shared drives/TriplegangersGroom_ext/Groom_INTERNAL/AliceRivera/maya/base_delta/scenes/deltaGen/AliceRivera__pony_coll__dh_cutClamp__c_5.xgd'],\n",
       " ['AliceRivera__pony_coll__dh_cutClamp__c_10',\n",
       "  'AliceRivera__pony_coll__dh_cutClamp__c_15',\n",
       "  'AliceRivera__pony_coll__dh_cutClamp__c_20',\n",
       "  'AliceRivera__pony_coll__dh_cutClamp__c_25',\n",
       "  'AliceRivera__pony_coll__dh_cutClamp__c_30',\n",
       "  'AliceRivera__pony_coll__dh_cutClamp__c_5']]"
      ]
     },
     "execution_count": 421,
     "metadata": {},
     "output_type": "execute_result"
    }
   ],
   "source": [
    "def func(input):\n",
    "    save = set()\n",
    "    single = False\n",
    "    for id in input.ids:\n",
    "        split = id.split('__')[-1].split('_')\n",
    "        if len(split) % 2 != 0:\n",
    "            print(\"somethings wrong with the filenames\")\n",
    "        if len(split) == 2:\n",
    "            single = True\n",
    "            save.add('_'.join(split[:2]))\n",
    "        else:\n",
    "            save.add('_'.join(split[:2])+'_')\n",
    "    print(save)\n",
    "\n",
    "    d={}\n",
    "    for i in save:\n",
    "        for x in input.paths:\n",
    "            if i in x:\n",
    "                if i not in d:\n",
    "                    if single == False:\n",
    "                        d[i] = [x]\n",
    "                    else:\n",
    "                        d[i] = x\n",
    "                else:\n",
    "                    # pass\n",
    "                    d[i].append(x)\n",
    "    iters_list = sorted(d.values())\n",
    "    # [[print(x) for x in iter] for iter in dh_noise_iters_list]\n",
    "    if single == True:\n",
    "        return [list(iters_list), [x.split('/')[-1].rstrip('.xgd') for x in iters_list]]\n",
    "    else:\n",
    "        return list(zip(iters_list, [[x.split('/')[-1].rstrip('.xgd') for x in iter] for iter in iters_list]))\n",
    "\n",
    "func(cutClamp_deltas)\n",
    "\n",
    "# func(noise_deltas)\n",
    "\n"
   ]
  }
 ],
 "metadata": {
  "kernelspec": {
   "display_name": "Python 3",
   "language": "python",
   "name": "python3"
  },
  "language_info": {
   "codemirror_mode": {
    "name": "ipython",
    "version": 3
   },
   "file_extension": ".py",
   "mimetype": "text/x-python",
   "name": "python",
   "nbconvert_exporter": "python",
   "pygments_lexer": "ipython3",
   "version": "3.9.13"
  },
  "orig_nbformat": 4,
  "vscode": {
   "interpreter": {
    "hash": "9f476623a6409e859aed2abb175b92e593502b72d6eae5160d784e9496e9bf86"
   }
  }
 },
 "nbformat": 4,
 "nbformat_minor": 2
}

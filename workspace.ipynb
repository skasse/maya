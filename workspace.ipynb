{
 "cells": [
  {
   "cell_type": "code",
   "execution_count": 3,
   "metadata": {},
   "outputs": [
    {
     "name": "stdout",
     "output_type": "stream",
     "text": [
      "G:/Shared drives/TriplegangersGroom_ext/Groom_INTERNAL/*/maya/base_delta/images/*/contactSheet.png\n"
     ]
    }
   ],
   "source": [
    "from glob import glob\n",
    "import pandas as pd\n",
    "import numpy as np\n",
    "import matplotlib.pyplot as plt\n",
    "import os\n",
    "path = \"G:/Shared drives/TriplegangersGroom_ext/Groom_INTERNAL/*/maya/base_delta/images/*/contactSheet.png\""
   ]
  },
  {
   "cell_type": "code",
   "execution_count": 15,
   "metadata": {},
   "outputs": [
    {
     "name": "stdout",
     "output_type": "stream",
     "text": [
      "['CamilaMazurek' 'ChrisHemsworth' 'JasonMomoa' 'KamilaTen' 'LucyMae'\n",
      " 'ManuelTucker' 'MonstaXJooheon' 'PaulSamatar' 'PhilipAn' 'RonaldNelson'\n",
      " 'AmandaMoore' 'AliceRivera' 'WandaEdwards' 'VeronicaYoung' 'LouisPrice'\n",
      " 'SimonYuen']\n",
      "SimonYuen         26\n",
      "CamilaMazurek     18\n",
      "RonaldNelson      16\n",
      "ChrisHemsworth    14\n",
      "KamilaTen         14\n",
      "LucyMae           14\n",
      "ManuelTucker      14\n",
      "MonstaXJooheon    14\n",
      "PaulSamatar       14\n",
      "PhilipAn          14\n",
      "VeronicaYoung     14\n",
      "LouisPrice        14\n",
      "JasonMomoa        13\n",
      "AmandaMoore       12\n",
      "WandaEdwards      11\n",
      "AliceRivera        2\n",
      "Name: 4, dtype: int64\n"
     ]
    }
   ],
   "source": [
    "contactSheets = [x.replace(os.sep,'/') for x in glob(path)]\n",
    "cs_splits = [x.split('/') for x in contactSheets]\n",
    "cs_splitspds = pd.Series([x.split('/') for x in contactSheets])\n",
    "\n",
    "df = pd.DataFrame(cs_splits)\n",
    "# df['name'] = df[4]\n",
    "# df\n",
    "\n",
    "df = pd.DataFrame([x.replace(os.sep,'/').split('/') for x in glob(path)])\n",
    "df\n",
    "# unique in column\n",
    "print(df[4].unique())\n",
    "\n",
    "# unique+count in column\n",
    "print(df[4].value_counts())\n",
    "\n"
   ]
  },
  {
   "cell_type": "code",
   "execution_count": 1,
   "metadata": {},
   "outputs": [
    {
     "name": "stdout",
     "output_type": "stream",
     "text": [
      "['CamilaMazurek' 'ChrisHemsworth' 'JasonMomoa' 'KamilaTen' 'LucyMae'\n",
      " 'ManuelTucker' 'MonstaXJooheon' 'PaulSamatar' 'PhilipAn' 'RonaldNelson'\n",
      " 'AmandaMoore' 'AliceRivera' 'WandaEdwards' 'VeronicaYoung' 'LouisPrice'\n",
      " 'SimonYuen']\n",
      "SimonYuen         26\n",
      "CamilaMazurek     18\n",
      "RonaldNelson      16\n",
      "ChrisHemsworth    14\n",
      "KamilaTen         14\n",
      "LucyMae           14\n",
      "ManuelTucker      14\n",
      "MonstaXJooheon    14\n",
      "PaulSamatar       14\n",
      "PhilipAn          14\n",
      "VeronicaYoung     14\n",
      "LouisPrice        14\n",
      "JasonMomoa        13\n",
      "AmandaMoore       12\n",
      "WandaEdwards      11\n",
      "AliceRivera        2\n",
      "Name: 4, dtype: int64\n"
     ]
    }
   ],
   "source": [
    "from glob import glob\n",
    "import pandas as pd\n",
    "\n",
    "path = \"G:/Shared drives/TriplegangersGroom_ext/Groom_INTERNAL/*/maya/base_delta/images/*/contactSheet.png\"\n",
    "\n",
    "df = pd.DataFrame([x.replace(os.sep,'/').split('/') for x in glob(path)])\n",
    "df\n",
    "# unique in column\n",
    "print(df[4].unique())\n",
    "\n",
    "# unique+count in column\n",
    "print(df[4].value_counts())"
   ]
  },
  {
   "cell_type": "code",
   "execution_count": 15,
   "metadata": {},
   "outputs": [
    {
     "name": "stdout",
     "output_type": "stream",
     "text": [
      "search path: G:/Shared drives/TriplegangersGroom_ext/Groom_INTERNAL/, name filters: AmandaMoore\n",
      "AmandaMoore\n",
      "clean complete\n"
     ]
    }
   ],
   "source": [
    "sourcePath = \"G:/Shared drives/TriplegangersGroom_ext/Groom_INTERNAL/\"\n",
    "from glob import glob\n",
    "import os\n",
    "\n",
    "\n",
    "def get_grooms(path:str=sourcePath, name:str=\"**\"):\n",
    "    \"\"\" get grooms from source path.  default name = '**' \"\"\"\n",
    "    print(f'search path: {path}, name filters: {name}')\n",
    "    exclude = [\"turntableQC\", \"0000_base_delta\", \"image_DB\"]\n",
    "    groomList = [x.replace(os.sep, '/').split('/')[-1] for x in glob(path+name)]\n",
    "    groomList = [x for x in groomList if x not in exclude]\n",
    "    return groomList\n",
    "\n",
    "def clean_deltas(groomName:str = '**'):\n",
    "    \"\"\"removes all ../scenes/delta/ folders\"\"\"\n",
    "    import shutil\n",
    "    for groom in get_grooms(sourcePath, groomName):\n",
    "        print(groom)\n",
    "        # shutil.rmtree(deltaOutPath(groom))\n",
    "    print(\"clean complete\")\n",
    "\n",
    "clean_deltas(groomName='AmandaMoore')"
   ]
  }
 ],
 "metadata": {
  "kernelspec": {
   "display_name": "Python 3",
   "language": "python",
   "name": "python3"
  },
  "language_info": {
   "codemirror_mode": {
    "name": "ipython",
    "version": 3
   },
   "file_extension": ".py",
   "mimetype": "text/x-python",
   "name": "python",
   "nbconvert_exporter": "python",
   "pygments_lexer": "ipython3",
   "version": "3.9.13"
  },
  "orig_nbformat": 4,
  "vscode": {
   "interpreter": {
    "hash": "9f476623a6409e859aed2abb175b92e593502b72d6eae5160d784e9496e9bf86"
   }
  }
 },
 "nbformat": 4,
 "nbformat_minor": 2
}
